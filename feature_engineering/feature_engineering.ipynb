{
 "cells": [
  {
   "cell_type": "markdown",
   "metadata": {},
   "source": [
    "# Overview\n",
    "\n",
    "Purpose of notebook is to investigate known feature engineering techniques from literature on 4D-STEM datasets. Identify key microstructure features.\n",
    "- control unzip\n",
    "- AA\n",
    "- BD spot extraction\n",
    "- Std dev thresholding\n",
    "- radial profiling\n",
    "- IFT\n",
    "- Binarizer"
   ]
  },
  {
   "cell_type": "markdown",
   "metadata": {},
   "source": [
    "# Imports\n"
   ]
  },
  {
   "cell_type": "code",
   "execution_count": 17,
   "metadata": {},
   "outputs": [],
   "source": [
    "%matplotlib qt5\n",
    "\n",
    "import pyxem as pxm\n",
    "import numpy as np\n",
    "import hyperspy.api as hs\n",
    "from matplotlib import pyplot as plt\n",
    "from sklearn.preprocessing import RobustScaler, Binarizer\n",
    "from sklearn.pipeline import Pipeline\n",
    "import umap\n",
    "import hdbscan\n",
    "\n",
    "from sklearn.base import BaseEstimator, TransformerMixin\n",
    "\n",
    "plt.rcParams['figure.dpi'] = 300\n",
    "plt.rcParams['font.family']='sans-serif'\n",
    "plt.rcParams['font.sans-serif']='Arial'\n",
    "plt.rcParams['font.size']=8\n",
    "plt.rcParams[\"font.weight\"] = \"bold\"\n",
    "plt.rcParams[\"font.style\"] = \"normal\"\n",
    "\n",
    "\n",
    "plt.rcParams['axes.linewidth'] = 1\n",
    "plt.rcParams[\"xtick.direction\"] = \"in\"\n",
    "plt.rcParams[\"ytick.direction\"] = \"in\"\n",
    "plt.rcParams['lines.linewidth'] = 0.8\n",
    "plt.rcParams['figure.figsize'] = [3 , 3 ]"
   ]
  },
  {
   "cell_type": "markdown",
   "metadata": {},
   "source": [
    "# Supporting functions"
   ]
  },
  {
   "cell_type": "code",
   "execution_count": 18,
   "metadata": {},
   "outputs": [],
   "source": [
    "\n",
    "def palette_for_label_map(no_cluster, unclassified=False, mask=False):\n",
    "    \"\"\"\n",
    "    no_cluster = number of real clusters\n",
    "    unclassified = no_cluster + 1\n",
    "    mask = no_cluster + 2\n",
    "\n",
    "    Returns palette, CustomCmap\n",
    "    \"\"\"\n",
    "    import seaborn as sns\n",
    "    import matplotlib\n",
    "\n",
    "    # Extract colors from tab20 and tab20b\n",
    "    tab20_colors = [plt.cm.tab20(i) for i in range(20)]\n",
    "    tab20b_colors = [plt.cm.tab20b(i) for i in range(20)]\n",
    "    combined_colors = tab20_colors + tab20b_colors\n",
    "\n",
    "    custom_palette = combined_colors[:no_cluster]\n",
    "\n",
    "    if unclassified == True:\n",
    "        custom_palette.insert(0, \"white\")  # UNCLASSIFIED\n",
    "    if mask == True:\n",
    "        custom_palette.insert(0, \"black\")  # MASKED OUT\n",
    "\n",
    "    CustomCmap = matplotlib.colors.ListedColormap(custom_palette)\n",
    "    palette = sns.color_palette(palette=custom_palette)\n",
    "    \n",
    "    return (palette, CustomCmap)\n",
    "\n",
    "def include_scalebar(dp):\n",
    "    from matplotlib_scalebar.scalebar import ScaleBar\n",
    "\n",
    "    dx = dp.axes_manager[0].scale\n",
    "    scalebar = ScaleBar(\n",
    "        dx,\n",
    "        \"nm\",\n",
    "        length_fraction=0.25,\n",
    "        width_fraction=0.015,\n",
    "        location=\"lower left\",\n",
    "        frameon=False,\n",
    "        color=\"w\",\n",
    "        scale_loc=\"top\",\n",
    "        border_pad=0.5,\n",
    "    )\n",
    "    plt.gca().add_artist(scalebar)\n",
    "\n",
    "\n",
    "def plot_label_map(labels_highest_soft_spatial, no_cluster_soft, scalebar=False):\n",
    "    palette, CustomCmap = palette_for_label_map(\n",
    "        no_cluster_soft, unclassified=False, mask=False\n",
    "    )\n",
    "\n",
    "    plt.figure()\n",
    "    plt.imshow(labels_highest_soft_spatial, cmap=CustomCmap)\n",
    "\n",
    "    if scalebar == True:\n",
    "        include_scalebar(dp)\n",
    "    \n",
    "    plt.xticks([])\n",
    "    plt.yticks([])\n",
    "    plt.tight_layout()\n",
    "    plt.show()\n",
    "\n",
    "def plot_manifold_labels(no_cluster_soft,labels_highest_soft, reduced_data ):\n",
    "\n",
    "    import seaborn as sns\n",
    "    cluster_colors = [palette_for_label_map(no_cluster_soft)[0][x] if x >= 0\n",
    "                    else (0.5, 0.5, 0.5)\n",
    "                    for x in labels_highest_soft]\n",
    "    if reduced_data.shape[1]==3:\n",
    "        fig = plt.figure()\n",
    "        ax = fig.add_subplot(projection='3d')\n",
    "        ax.scatter(reduced_data[:,0], reduced_data[:,1], reduced_data[:,2], alpha=0.2,  c=cluster_colors)\n",
    "        ax.set_xticklabels([])\n",
    "        ax.set_yticklabels([])\n",
    "        ax.set_zticklabels([])\n",
    "\n",
    "    if reduced_data.shape[1]==2:\n",
    "        fig = plt.figure()\n",
    "        plt.scatter(reduced_data[:,0], reduced_data[:,1], alpha=0.2,  c=cluster_colors)\n",
    "        plt.gca().set_xticklabels([])\n",
    "        plt.gca().set_yticklabels([])\n",
    " "
   ]
  },
  {
   "cell_type": "code",
   "execution_count": 19,
   "metadata": {},
   "outputs": [],
   "source": [
    "def dp_cluster_std_dev(selected_dp):\n",
    "    cluster_std_dev_dp_pixels = np.std(selected_dp, axis=0)\n",
    "    return cluster_std_dev_dp_pixels\n",
    "\n",
    "\n",
    "def get_cluster_mean_dp_list(dp, memberships_highest_soft, labels_highest_soft):\n",
    "    dp.fold()\n",
    "    dp.unfold_navigation_space()\n",
    "    dp_soft_cluster_mean_list = []\n",
    "\n",
    "    for i in range(no_cluster_soft):\n",
    "        selected_dp = np.take(\n",
    "            dp.data,\n",
    "            np.where((memberships_highest_soft == 1) & (labels_highest_soft == i))[0],\n",
    "            axis=0)\n",
    "        \n",
    "        dp_soft_cluster_mean = np.mean(selected_dp, axis=0)\n",
    "        dp_soft_cluster_mean_list.append(dp_soft_cluster_mean)\n",
    "    return dp_soft_cluster_mean_list\n",
    "\n",
    "\n",
    "def get_cluster_std_dev_dp_list(dp_bina, memberships_highest_soft, labels_highest_soft):\n",
    "    dp_bina.fold()\n",
    "    dp_bina.unfold_navigation_space()\n",
    "    dp_soft_cluster_std_dev_list = []\n",
    "    for i in range(no_cluster_soft):\n",
    "        selected_dp = np.take(\n",
    "            dp_bina.data,\n",
    "            np.where((memberships_highest_soft == 1) & (labels_highest_soft == i))[0],\n",
    "            axis=0,\n",
    "        )\n",
    "        dp_soft_cluster_std_dev_list.append(dp_cluster_std_dev(selected_dp))\n",
    "    return dp_soft_cluster_std_dev_list\n",
    "\n",
    "\n",
    "def get_cluster_mean_eds_list(eds, memberships_highest_soft, labels_highest_soft):\n",
    "    eds.fold()\n",
    "    eds.unfold_navigation_space()\n",
    "    eds_soft_cluster_mean_list = []\n",
    "    for i in range(no_cluster_soft):\n",
    "        selected_eds = np.take(\n",
    "            eds.data,\n",
    "            np.where((memberships_highest_soft == 1) & (labels_highest_soft == i))[0],\n",
    "            axis=0,\n",
    "        )\n",
    "        eds_soft_cluster_mean = np.mean(selected_eds, axis=0)\n",
    "        eds_soft_cluster_mean_list.append(eds_soft_cluster_mean)\n",
    "    return eds_soft_cluster_mean_list\n",
    "\n",
    "\n",
    "def get_cluster_std_dev_eds_list(eds, memberships_highest_soft, labels_highest_soft):\n",
    "    eds.fold()\n",
    "    eds.unfold_navigation_space()\n",
    "    eds_soft_cluster_std_dev_list = []\n",
    "    for i in range(no_cluster_soft):\n",
    "        selected_eds = np.take(\n",
    "            eds.data,\n",
    "            np.where((memberships_highest_soft == 1) & (labels_highest_soft == i))[0],\n",
    "            axis=0,\n",
    "        )\n",
    "        eds_soft_cluster_std_dev = np.std(selected_eds, axis=0)\n",
    "        eds_soft_cluster_std_dev_list.append(eds_soft_cluster_std_dev)\n",
    "    return eds_soft_cluster_std_dev_list\n",
    "\n",
    "\n",
    "def plot_cluster_mean_analysis(dp,\n",
    "    include_eds_mean_plot=False,\n",
    "    include_eds_std_dev_plot=False,\n",
    "    include_dp_std_dev_plot=False,\n",
    "    include_dp_mean_plot=True,\n",
    "    include_probability_map=True,\n",
    "    dp_vmax=0.1,\n",
    "):\n",
    "    from matplotlib_scalebar.scalebar import ScaleBar\n",
    "\n",
    "    palette, CustomCmap = palette_for_label_map(\n",
    "        no_cluster_soft, unclassified=False, mask=False\n",
    "    )\n",
    "\n",
    "    # Calculate the total number of rows required based on the plots to be included\n",
    "    total_rows = 0\n",
    "\n",
    "    if include_dp_mean_plot:\n",
    "        total_rows += 1\n",
    "\n",
    "    if include_probability_map:\n",
    "        total_rows += 2\n",
    "\n",
    "    if include_dp_std_dev_plot:\n",
    "        total_rows += 1\n",
    "\n",
    "    if include_eds_mean_plot:\n",
    "        total_rows += 1\n",
    "\n",
    "    if include_eds_std_dev_plot:\n",
    "        total_rows += 1\n",
    "\n",
    "    fig = plt.figure(figsize=(7.08661, 7.08661))\n",
    "\n",
    "    gs = plt.GridSpec(\n",
    "        total_rows,\n",
    "        no_cluster_soft,\n",
    "        wspace=0.1,\n",
    "        hspace=0.1,\n",
    "        height_ratios=[1] * (total_rows - 1) + [0.1],\n",
    "    )\n",
    "\n",
    "    for i in range(no_cluster_soft):\n",
    "        row_index = 0  # Initialize row index\n",
    "\n",
    "        ax_outer = plt.subplot(gs[:, i])\n",
    "        ax_outer.set_facecolor(palette[i])\n",
    "        plt.xticks([])\n",
    "        plt.yticks([])\n",
    "\n",
    "        if include_dp_mean_plot:\n",
    "            dp_soft_cluster_mean_list = get_cluster_mean_dp_list(\n",
    "                dp, memberships_highest_soft, labels_highest_soft\n",
    "            )\n",
    "\n",
    "            ax_ebsd = fig.add_subplot(gs[row_index, i])\n",
    "            dp_cluster_mean = dp_soft_cluster_mean_list[i]  # current cluster\n",
    "            dp_cluster_mean_normalize = (dp_cluster_mean - dp_cluster_mean.min()) / (\n",
    "                dp_cluster_mean.max() - dp_cluster_mean.min()\n",
    "            )  # normalize\n",
    "            plt.imshow(dp_cluster_mean_normalize, cmap=\"Greys_r\", vmax=dp_vmax)\n",
    "            plt.xticks([])\n",
    "            plt.yticks([])\n",
    "\n",
    "            row_index += 1\n",
    "\n",
    "        if include_dp_std_dev_plot:\n",
    "\n",
    "            dp_soft_cluster_std_dev_list = get_cluster_std_dev_dp_list(\n",
    "                dp, memberships_highest_soft, labels_highest_soft\n",
    "            )\n",
    "            ax_dp_std = fig.add_subplot(gs[row_index, i])\n",
    "            dp_cluster_std = dp_soft_cluster_std_dev_list[i]\n",
    "            plt.imshow(dp_cluster_std, cmap=\"inferno\")\n",
    "            plt.xticks([])\n",
    "            plt.yticks([])\n",
    "\n",
    "            row_index += 1\n",
    "\n",
    "        if include_eds_mean_plot:\n",
    "            eds_soft_cluster_mean_list = get_cluster_mean_eds_list(\n",
    "                eds, memberships_highest_soft, labels_highest_soft\n",
    "            )\n",
    "            ax_eds = fig.add_subplot(gs[row_index, i])\n",
    "            eds_cluster_mean = eds_soft_cluster_mean_list[i]\n",
    "            plt.plot(eds_cluster_mean)\n",
    "            plt.xticks([])\n",
    "            plt.yticks([])\n",
    "\n",
    "            row_index += 1\n",
    "\n",
    "        if include_eds_std_dev_plot:\n",
    "            eds_soft_cluster_std_dev_list = get_cluster_std_dev_eds_list(\n",
    "                eds, memberships_highest_soft, labels_highest_soft\n",
    "            )\n",
    "            ax_eds_std = fig.add_subplot(gs[row_index, i])\n",
    "            eds_cluster_std = eds_soft_cluster_std_dev_list[i]\n",
    "            plt.plot(eds_cluster_std, \"g\")\n",
    "            plt.xticks([])\n",
    "            plt.yticks([])\n",
    "\n",
    "            row_index += 1\n",
    "\n",
    "        if include_probability_map:\n",
    "            ax_loading = fig.add_subplot(gs[row_index, i])\n",
    "            memberships_highest_soft_spatial2 = memberships_highest_soft_spatial.copy()\n",
    "            memberships_highest_soft_spatial2[\n",
    "                np.where(labels_highest_soft_spatial != i)\n",
    "            ] = 0\n",
    "            pc = plt.imshow(memberships_highest_soft_spatial2, cmap='inferno')\n",
    "\n",
    "            # scalebar = ScaleBar(2, 'nm', length_fraction=0.25, width_fraction=0.015, location='lower left',\n",
    "            #             frameon=False, color='w', scale_loc='top', border_pad=0.1)  # 1 pixel = 0.2 meter\n",
    "            # plt.gca().add_artist(scalebar)\n",
    "\n",
    "            plt.xticks([])\n",
    "            plt.yticks([])\n",
    "\n",
    "            row_index += 1\n",
    "\n",
    "    ax_colorbar = fig.add_subplot(gs[row_index, :])\n",
    "    plt.colorbar(pc, cax=ax_colorbar, orientation=\"horizontal\")"
   ]
  },
  {
   "cell_type": "markdown",
   "metadata": {},
   "source": [
    "# Purpose of notebook\n",
    "\n",
    "Try all feature engineering techniques. Identify key microstructure features\n",
    "- control unzip\n",
    "- AA\n",
    "- BD spot extraction\n",
    "- Std dev thresholding\n",
    "- radial profiling\n",
    "- IFT\n",
    "- Binarizer\n"
   ]
  },
  {
   "cell_type": "markdown",
   "metadata": {},
   "source": [
    "\n",
    "# Load data\n"
   ]
  },
  {
   "cell_type": "code",
   "execution_count": 20,
   "metadata": {},
   "outputs": [
    {
     "data": {
      "text/plain": [
       "<Signal2D, title: , dimensions: (80, 80|128, 128)>"
      ]
     },
     "execution_count": 20,
     "metadata": {},
     "output_type": "execute_result"
    }
   ],
   "source": [
    "dirpath = f\"C:\\\\Users\\\\Zhi Quan\\\\Dropbox (Personal)\\\\Jupyter backup\\\\Simulations\\\\SimulatedData\\\\data\\\\\"\n",
    "\n",
    "dp = hs.load(dirpath + \"send_reduced.zspy\", lazy=False)\n",
    "dp.change_dtype(\"float32\")\n",
    "dp = dp.isig[64:192, 64:192]\n",
    "dp"
   ]
  },
  {
   "cell_type": "code",
   "execution_count": 5,
   "metadata": {},
   "outputs": [],
   "source": [
    "# dir_path = 'C:\\\\Users\\\\Zhi Quan\\\\Dropbox (Personal)\\\\Jupyter backup\\\\TRISO\\\\2025\\\\data\\\\sped\\\\'\n",
    "\n",
    "# dp = hs.load(dir_path + '1100-100h.blo')"
   ]
  },
  {
   "cell_type": "code",
   "execution_count": 14,
   "metadata": {},
   "outputs": [
    {
     "data": {
      "text/plain": [
       "Text(25.625000000000004, 0.5, 'Intensity (a.u.)')"
      ]
     },
     "execution_count": 14,
     "metadata": {},
     "output_type": "execute_result"
    }
   ],
   "source": [
    "dp.unfold()\n",
    "\n",
    "plt.plot(dp.mean().data)\n",
    "plt.xlabel('Bin channels (a.u.)')\n",
    "plt.ylabel('Intensity (a.u.)')"
   ]
  },
  {
   "cell_type": "code",
   "execution_count": 8,
   "metadata": {},
   "outputs": [],
   "source": [
    "dp.unfold()\n",
    "dp_bina = hs.signals.Signal2D(Binarizer(threshold=np.percentile(np.log1p(dp.data), 90)).fit_transform(np.log1p(dp.data)).reshape(80,80, 128, 128))\n",
    "dp.fold()"
   ]
  },
  {
   "cell_type": "code",
   "execution_count": null,
   "metadata": {},
   "outputs": [],
   "source": [
    "dp_bina.plot()"
   ]
  },
  {
   "cell_type": "code",
   "execution_count": null,
   "metadata": {},
   "outputs": [],
   "source": [
    "dp_bina.unfold()\n",
    "\n",
    "plt.plot(dp_bina.mean().data)\n",
    "plt.xlabel('Bin channels (a.u.)')\n",
    "plt.ylabel('Intensity (a.u.)')"
   ]
  },
  {
   "cell_type": "markdown",
   "metadata": {},
   "source": [
    "# Start"
   ]
  },
  {
   "cell_type": "code",
   "execution_count": 21,
   "metadata": {},
   "outputs": [],
   "source": [
    "def apply_mask(img, center_x, center_y, radius):\n",
    "\n",
    "    x, y = np.meshgrid(\n",
    "        np.arange(img.shape[0]),\n",
    "        np.arange(img.shape[1]),\n",
    "    )\n",
    "\n",
    "    # Calculate the distance of each pixel to the center of the circle\n",
    "    distances = np.sqrt((x - center_x) ** 2 + (y - center_y) ** 2)\n",
    "\n",
    "    # Create a boolean mask where True values correspond to pixels within the circle\n",
    "    mask = distances <= radius\n",
    "\n",
    "    img[mask] = 0\n",
    "\n",
    "    return img"
   ]
  },
  {
   "cell_type": "code",
   "execution_count": 22,
   "metadata": {},
   "outputs": [
    {
     "name": "stdout",
     "output_type": "stream",
     "text": [
      "[########################################] | 100% Completed | 753.64 ms\n"
     ]
    }
   ],
   "source": [
    "dp.map(apply_mask, center_x = 64, center_y = 64, radius=10)"
   ]
  },
  {
   "cell_type": "code",
   "execution_count": null,
   "metadata": {},
   "outputs": [],
   "source": [
    "dp.plot()"
   ]
  },
  {
   "cell_type": "code",
   "execution_count": 12,
   "metadata": {},
   "outputs": [],
   "source": [
    "save_dir = 'C:\\\\Users\\\\Zhi Quan\\\\Dropbox (Personal)\\\\Final thesis\\\\methods_figures\\\\'"
   ]
  },
  {
   "cell_type": "markdown",
   "metadata": {},
   "source": [
    "# Control"
   ]
  },
  {
   "cell_type": "code",
   "execution_count": null,
   "metadata": {},
   "outputs": [],
   "source": [
    "dp.unfold()\n",
    "\n",
    "pipe = Pipeline(\n",
    "[\n",
    "('reduce_dims', umap.UMAP(densmap=True, n_neighbors=10, n_components=3, min_dist=0, metric='euclidean', random_state=1)), \n",
    "]\n",
    ")\n",
    "\n",
    "reduced_data = pipe.fit_transform(np.log1p(dp).data)\n",
    "clust = hdbscan.HDBSCAN(min_cluster_size=20, min_samples=10, prediction_data=True, metric='euclidean')\n",
    "\n",
    "clust.fit(reduced_data)\n",
    "x,y = 80,80\n",
    "\n",
    "memberships_all_soft = hdbscan.all_points_membership_vectors(clust)\n",
    "memberships_highest_soft = np.array([np.max(x) for x in memberships_all_soft])\n",
    "memberships_highest_soft_spatial = memberships_highest_soft.reshape(x, y)\n",
    "labels_highest_soft = np.array([np.argmax(x) for x in memberships_all_soft])\n",
    "labels_highest_soft_spatial = labels_highest_soft.reshape(x, y)\n",
    "no_cluster_soft = len(set(labels_highest_soft))\n"
   ]
  },
  {
   "cell_type": "code",
   "execution_count": 23,
   "metadata": {},
   "outputs": [],
   "source": [
    "save_dir = 'C:\\\\Users\\\\Zhi Quan\\\\Dropbox (Personal)\\\\Final thesis\\\\methods_figures\\\\'"
   ]
  },
  {
   "cell_type": "code",
   "execution_count": null,
   "metadata": {},
   "outputs": [],
   "source": [
    "np.save('..\\\\2025\\\\data\\\\feature_engi_labels\\\\control_labels.npy', labels_highest_soft_spatial)"
   ]
  },
  {
   "cell_type": "code",
   "execution_count": null,
   "metadata": {},
   "outputs": [],
   "source": [
    "np.save('..\\\\2025\\\\data\\\\feature_engi_memberships\\\\control_memberships.npy', memberships_all_soft)\n",
    "\n",
    "np.save('..\\\\2025\\\\data\\\\feature_engi_reduced_data\\\\control_reduced.npy', reduced_data)"
   ]
  },
  {
   "cell_type": "code",
   "execution_count": null,
   "metadata": {},
   "outputs": [],
   "source": [
    "\n",
    "plot_label_map(labels_highest_soft_spatial, no_cluster_soft)\n",
    "plt.savefig(save_dir + 'control_label_map.png', bbox_inches='tight')\n",
    "plt.close('all')\n",
    "\n",
    "plot_manifold_labels(no_cluster_soft, labels_highest_soft, reduced_data)\n",
    "plt.savefig(save_dir + 'control_manifold.png', bbox_inches='tight')\n",
    "plt.close('all')"
   ]
  },
  {
   "cell_type": "code",
   "execution_count": null,
   "metadata": {},
   "outputs": [],
   "source": [
    "\n",
    "plot_cluster_mean_analysis(dp=dp, include_dp_std_dev_plot=True)\n"
   ]
  },
  {
   "cell_type": "markdown",
   "metadata": {},
   "source": [
    "# Std dev thresholding"
   ]
  },
  {
   "cell_type": "code",
   "execution_count": null,
   "metadata": {},
   "outputs": [],
   "source": [
    "dp.fold()\n",
    "dp_shape = dp.data.shape[2]\n",
    "dp.unfold()\n",
    "\n",
    "std_dev_dp_pixels = np.std(dp.data, axis=0)\n",
    "std_dev_dp_pixels = hs.signals.Signal2D(\n",
    "    std_dev_dp_pixels.reshape(dp_shape, dp_shape)\n",
    ")\n",
    "\n",
    "center_x, center_y = (dp_shape/2, dp_shape/2)\n",
    "\n",
    "radius = 9\n",
    "\n",
    "# Create a grid of pixel coordinates\n",
    "x, y = np.meshgrid(\n",
    "    np.arange(std_dev_dp_pixels.data.shape[0]),\n",
    "    np.arange(std_dev_dp_pixels.data.shape[1]),\n",
    ")\n",
    "\n",
    "# Calculate the distance of each pixel to the center of the circle\n",
    "distances = np.sqrt((x - center_x) ** 2 + (y - center_y) ** 2)\n",
    "\n",
    "# Create a boolean mask where True values correspond to pixels within the circle\n",
    "mask = distances <= radius\n",
    "\n",
    "# Apply the mask to the image\n",
    "std_dev_dp_pixels_masked_central = np.copy(std_dev_dp_pixels.data)\n",
    "std_dev_dp_pixels_masked_central[mask] = 0\n",
    "\n",
    "\n",
    "std_dev_dp_pixels_masked_central = hs.signals.Signal2D(std_dev_dp_pixels_masked_central)\n",
    "\n",
    "final_thres = 0.4\n",
    "\n",
    "matrix = std_dev_dp_pixels_masked_central.data\n",
    "\n",
    "n = int(np.ceil(matrix.size * final_thres))\n",
    "# n=1024\n",
    "\n",
    "# Flatten the matrix into a 1D array and sort it in descending order\n",
    "sorted_array = np.sort(matrix.flatten())[::-1]\n",
    "\n",
    "# Extract the highest n values from the sorted array\n",
    "top_n = sorted_array[:n]\n",
    "\n",
    "# Reshape the top_n array back into a 2D matrix\n",
    "# Create a mask for the top n values\n",
    "mask = np.isin(matrix, top_n)\n",
    "\n",
    "# Set all values not in the top n to zero\n",
    "result = matrix * mask\n",
    "\n",
    "\n",
    "result = hs.signals.Signal2D(result)\n",
    "\n",
    "result.plot(norm='symlog')"
   ]
  },
  {
   "cell_type": "code",
   "execution_count": null,
   "metadata": {},
   "outputs": [],
   "source": [
    "\n",
    "dp.fold()\n",
    "dp.unfold_navigation_space()\n",
    "\n",
    "extracted_pixels_list = []\n",
    "\n",
    "for d in dp.data:\n",
    "    extracted_pixels = d[np.where(mask==1)]\n",
    "    extracted_pixels_list.append(extracted_pixels)\n",
    "\n",
    "extracted_pixels_array = np.array(extracted_pixels_list)\n",
    "extracted_pixels_array[extracted_pixels_array < 0] = 0\n"
   ]
  },
  {
   "cell_type": "code",
   "execution_count": null,
   "metadata": {},
   "outputs": [],
   "source": [
    "plt.plot(np.mean(extracted_pixels_array, axis=0))\n",
    "plt.xlabel('Bin channels (a.u.)')\n",
    "plt.ylabel('Intensity (a.u.)')"
   ]
  },
  {
   "cell_type": "code",
   "execution_count": null,
   "metadata": {},
   "outputs": [],
   "source": [
    "dp.unfold()\n",
    "\n",
    "pipe = Pipeline(\n",
    "[\n",
    "('reduce_dims', umap.UMAP(densmap=True, n_neighbors=10, n_components=3, min_dist=0, metric='euclidean', random_state=0)), \n",
    "]\n",
    ")\n",
    "\n",
    "reduced_data = pipe.fit_transform(np.log1p(extracted_pixels_array).data)\n",
    "clust = hdbscan.HDBSCAN(min_cluster_size=20, min_samples=10, prediction_data=True, metric='euclidean')\n",
    "\n",
    "clust.fit(reduced_data)\n",
    "x,y = 80,80\n",
    "\n",
    "memberships_all_soft = hdbscan.all_points_membership_vectors(clust)\n",
    "memberships_highest_soft = np.array([np.max(x) for x in memberships_all_soft])\n",
    "memberships_highest_soft_spatial = memberships_highest_soft.reshape(x, y)\n",
    "labels_highest_soft = np.array([np.argmax(x) for x in memberships_all_soft])\n",
    "labels_highest_soft_spatial = labels_highest_soft.reshape(x, y)\n",
    "no_cluster_soft = len(set(labels_highest_soft))"
   ]
  },
  {
   "cell_type": "code",
   "execution_count": null,
   "metadata": {},
   "outputs": [],
   "source": [
    "plot_label_map(labels_highest_soft_spatial, no_cluster_soft)"
   ]
  },
  {
   "cell_type": "code",
   "execution_count": null,
   "metadata": {},
   "outputs": [],
   "source": [
    "\n",
    "plot_label_map(labels_highest_soft_spatial, no_cluster_soft)\n",
    "plt.savefig(save_dir + 'std_dev_thres_label_map.png')\n",
    "plt.close('all')\n",
    "\n",
    "plot_manifold_labels(no_cluster_soft, labels_highest_soft, reduced_data)\n",
    "plt.savefig(save_dir + 'std_dev_thres_manifold.png')\n",
    "plt.close('all')"
   ]
  },
  {
   "cell_type": "code",
   "execution_count": null,
   "metadata": {},
   "outputs": [],
   "source": [
    "\n",
    "np.save('..\\\\2025\\\\data\\\\feature_engi_labels\\\\std_dev_thres_labels.npy', labels_highest_soft_spatial)\n"
   ]
  },
  {
   "cell_type": "code",
   "execution_count": null,
   "metadata": {},
   "outputs": [],
   "source": [
    "np.save('..\\\\2025\\\\data\\\\feature_engi_memberships\\\\std_dev_thres_memberships.npy', memberships_all_soft)"
   ]
  },
  {
   "cell_type": "code",
   "execution_count": null,
   "metadata": {},
   "outputs": [],
   "source": [
    "np.save('..\\\\2025\\\\data\\\\feature_engi_reduced_data\\\\std_dev_thres_reduced.npy', reduced_data)"
   ]
  },
  {
   "cell_type": "markdown",
   "metadata": {},
   "source": [
    "## Binarizer"
   ]
  },
  {
   "cell_type": "code",
   "execution_count": 9,
   "metadata": {},
   "outputs": [
    {
     "data": {
      "text/plain": [
       "<Signal2D, title: , dimensions: (80, 80|128, 128)>"
      ]
     },
     "execution_count": 9,
     "metadata": {},
     "output_type": "execute_result"
    }
   ],
   "source": [
    "dp_bina.fold()\n",
    "dp_bina.plot()\n",
    "dp_bina"
   ]
  },
  {
   "cell_type": "code",
   "execution_count": 10,
   "metadata": {},
   "outputs": [
    {
     "name": "stderr",
     "output_type": "stream",
     "text": [
      "c:\\ProgramData\\Miniconda3\\envs\\datascience_3.9\\lib\\site-packages\\umap\\umap_.py:1879: UserWarning: gradient function is not yet implemented for jaccard distance metric; inverse_transform will be unavailable\n",
      "  warn(\n",
      "c:\\ProgramData\\Miniconda3\\envs\\datascience_3.9\\lib\\site-packages\\umap\\umap_.py:1943: UserWarning: n_jobs value -1 overridden to 1 by setting random_state. Use no seed for parallelism.\n",
      "  warn(f\"n_jobs value {self.n_jobs} overridden to 1 by setting random_state. Use no seed for parallelism.\")\n"
     ]
    }
   ],
   "source": [
    "from sklearn.pipeline import Pipeline\n",
    "import umap\n",
    "import hdbscan\n",
    "from sklearn.preprocessing import RobustScaler, Binarizer\n",
    "\n",
    "dp_bina.unfold()\n",
    "\n",
    "pipe = Pipeline(\n",
    "[\n",
    "('reduce_dims', umap.UMAP(densmap=True, n_neighbors=10, n_components=3, min_dist=0, metric='jaccard', random_state=0)),\n",
    "]\n",
    ")\n",
    "\n",
    "reduced_data = pipe.fit_transform(dp_bina.data)\n",
    "\n",
    "clust = hdbscan.HDBSCAN(min_cluster_size=20, min_samples=10, prediction_data=True)\n",
    "\n",
    "clust.fit(reduced_data)\n",
    "\n",
    "x,y = 80,80 \n",
    "\n",
    "memberships_all_soft = hdbscan.all_points_membership_vectors(clust)\n",
    "memberships_highest_soft = np.array([np.max(x) for x in memberships_all_soft])\n",
    "memberships_highest_soft_spatial = memberships_highest_soft.reshape(x, y)\n",
    "labels_highest_soft = np.array([np.argmax(x) for x in memberships_all_soft])\n",
    "labels_highest_soft_spatial = labels_highest_soft.reshape(x, y)\n",
    "no_cluster_soft = len(set(labels_highest_soft))\n",
    "\n",
    "# plot_label_map(labels_highest_soft_spatial, no_cluster_soft)"
   ]
  },
  {
   "cell_type": "code",
   "execution_count": null,
   "metadata": {},
   "outputs": [],
   "source": [
    "\n",
    "np.save('..\\\\2025\\\\data\\\\feature_engi_labels\\\\bina_labels.npy', labels_highest_soft_spatial)\n"
   ]
  },
  {
   "cell_type": "code",
   "execution_count": null,
   "metadata": {},
   "outputs": [],
   "source": [
    "np.save('..\\\\2025\\\\data\\\\feature_engi_memberships\\\\bina_memberships.npy', memberships_all_soft)\n",
    "np.save('..\\\\2025\\\\data\\\\feature_engi_reduced_data\\\\bina_reduced.npy', reduced_data)"
   ]
  },
  {
   "cell_type": "code",
   "execution_count": 13,
   "metadata": {},
   "outputs": [],
   "source": [
    "plot_label_map(labels_highest_soft_spatial, no_cluster_soft)\n",
    "plt.savefig(save_dir + 'binarize_label_map.png')\n",
    "plt.close('all')\n",
    "\n",
    "plot_manifold_labels(no_cluster_soft, labels_highest_soft, reduced_data)\n",
    "plt.savefig(save_dir + 'binarize_manifold.png')\n",
    "plt.close('all')\n",
    "\n",
    "# plot_cluster_mean_analysis(dp=dp, include_dp_std_dev_plot=True)\n"
   ]
  },
  {
   "cell_type": "markdown",
   "metadata": {},
   "source": [
    "## Radial variance"
   ]
  },
  {
   "cell_type": "code",
   "execution_count": 25,
   "metadata": {},
   "outputs": [
    {
     "data": {
      "text/plain": [
       "True"
      ]
     },
     "execution_count": 25,
     "metadata": {},
     "output_type": "execute_result"
    }
   ],
   "source": [
    "def radial_profiling_with_mask(image, x0, y0, binsize=1, fn=np.var, radius=None):\n",
    "    \"\"\"\n",
    "    Perform radial profiling on a 2D image with a customizable statistical measure\n",
    "    and an optional circular mask.\n",
    "    \n",
    "    Args:\n",
    "        image (np.ndarray): 2D array representing the image or pattern.\n",
    "        x0, y0 (float): Center coordinates for radial integration.\n",
    "        binsize (int): Size of the bin for radial distances.\n",
    "        fn (function): A function to apply within each radial bin (e.g., np.mean, np.sum, np.var, np.median).\n",
    "        radius (float or None): Radius of the circular mask. If None, no mask is applied.\n",
    "    \n",
    "    Returns:\n",
    "        np.ndarray: Array of the chosen statistical measure for each radial bin within the mask.\n",
    "    \"\"\"\n",
    "    \n",
    "    # Step 1: Create a circular mask if radius is provided\n",
    "    if radius is not None:\n",
    "        y, x = np.indices(image.shape)\n",
    "        circular_mask = (np.hypot(x - x0, y - y0) >= radius)\n",
    "        image = image * circular_mask  # Apply the mask to the image\n",
    "    \n",
    "    # Step 2: Calculate the radial distances for each pixel\n",
    "    qx, qy = np.indices(image.shape)\n",
    "    r = np.hypot(qx - x0, qy - y0).ravel()\n",
    "    \n",
    "    # Step 3: Bin the radial distances\n",
    "    r_bins = np.floor(r / binsize).astype(int)\n",
    "    \n",
    "    # Step 4: Initialize an array to hold the results\n",
    "    radial_profile = []\n",
    "    \n",
    "    # Step 5: Apply the chosen statistical measure within each bin\n",
    "    for i in range(r_bins.max() + 1):\n",
    "        mask = r_bins == i\n",
    "        if np.any(mask):\n",
    "            radial_value = fn(image.ravel()[mask])\n",
    "            radial_profile.append(radial_value)\n",
    "    \n",
    "    return np.array(radial_profile)\n",
    "dp.fold()\n",
    "dp.unfold_navigation_space()"
   ]
  },
  {
   "cell_type": "code",
   "execution_count": 32,
   "metadata": {},
   "outputs": [],
   "source": [
    "# import pyxem as pxm\n",
    "# dp.set_signal_type('electron_diffraction')\n",
    "# dp.unit = \"k_A^-1\"\n",
    "# dp.beam_energy = 200 # in 200 keV\n",
    "# dp.set_ai()\n",
    "# integration1d  = dp.get_azimuthal_integral1d(npt=100)"
   ]
  },
  {
   "cell_type": "code",
   "execution_count": 27,
   "metadata": {},
   "outputs": [],
   "source": [
    "rv_dp = np.array([radial_profiling_with_mask(dp.data[i], 64, 64, fn=np.var, radius=9) for i in range(dp.data.shape[0])])"
   ]
  },
  {
   "cell_type": "code",
   "execution_count": 28,
   "metadata": {},
   "outputs": [],
   "source": [
    "rv_dp = hs.signals.Signal1D(rv_dp.reshape(80,80, -1))"
   ]
  },
  {
   "cell_type": "code",
   "execution_count": 88,
   "metadata": {},
   "outputs": [
    {
     "data": {
      "text/plain": [
       "Text(0, 0.5, 'Intensity (a.u.)')"
      ]
     },
     "execution_count": 88,
     "metadata": {},
     "output_type": "execute_result"
    }
   ],
   "source": [
    "plt.plot(rv_dp.sum().data)\n",
    "plt.xlabel('Bin channels (a.u.)')\n",
    "plt.ylabel('Intensity (a.u.)')"
   ]
  },
  {
   "cell_type": "code",
   "execution_count": 36,
   "metadata": {},
   "outputs": [
    {
     "data": {
      "text/plain": [
       "<ElectronDiffraction1D, title: , unfolded dimensions: (6400|100)>"
      ]
     },
     "execution_count": 36,
     "metadata": {},
     "output_type": "execute_result"
    }
   ],
   "source": [
    "integration1d"
   ]
  },
  {
   "cell_type": "code",
   "execution_count": 37,
   "metadata": {},
   "outputs": [
    {
     "name": "stderr",
     "output_type": "stream",
     "text": [
      "c:\\ProgramData\\Miniconda3\\envs\\datascience_3.9\\lib\\site-packages\\umap\\umap_.py:1943: UserWarning: n_jobs value -1 overridden to 1 by setting random_state. Use no seed for parallelism.\n",
      "  warn(f\"n_jobs value {self.n_jobs} overridden to 1 by setting random_state. Use no seed for parallelism.\")\n"
     ]
    },
    {
     "name": "stdout",
     "output_type": "stream",
     "text": [
      "34\n"
     ]
    }
   ],
   "source": [
    "integration1d.unfold()\n",
    "\n",
    "pipe = Pipeline(\n",
    "[\n",
    "('reduce_dims', umap.UMAP(densmap=True, n_neighbors=10, n_components=3, min_dist=0, metric='euclidean', random_state=0)), \n",
    "]\n",
    ")\n",
    "\n",
    "reduced_data = pipe.fit_transform(integration1d.data)\n",
    "clust = hdbscan.HDBSCAN(min_cluster_size=20, min_samples=10, prediction_data=True, metric='euclidean')\n",
    "\n",
    "clust.fit(reduced_data)\n",
    "\n",
    "x,y = 80,80\n",
    "\n",
    "memberships_all_soft = hdbscan.all_points_membership_vectors(clust)\n",
    "memberships_highest_soft = np.array([np.max(x) for x in memberships_all_soft])\n",
    "memberships_highest_soft_spatial = memberships_highest_soft.reshape(x, y)\n",
    "labels_highest_soft = np.array([np.argmax(x) for x in memberships_all_soft])\n",
    "labels_highest_soft_spatial = labels_highest_soft.reshape(x, y)\n",
    "no_cluster_soft = len(set(labels_highest_soft))\n",
    "print(no_cluster_soft)\n",
    "\n",
    "# plot_label_map(labels_highest_soft_spatial, no_cluster_soft)\n"
   ]
  },
  {
   "cell_type": "code",
   "execution_count": 38,
   "metadata": {},
   "outputs": [],
   "source": [
    "plot_label_map(labels_highest_soft_spatial, no_cluster_soft)"
   ]
  },
  {
   "cell_type": "code",
   "execution_count": null,
   "metadata": {},
   "outputs": [],
   "source": [
    "\n",
    "np.save('..\\\\2025\\\\data\\\\feature_engi_labels\\\\rv_labels.npy', labels_highest_soft_spatial)\n"
   ]
  },
  {
   "cell_type": "code",
   "execution_count": null,
   "metadata": {},
   "outputs": [],
   "source": [
    "np.save('..\\\\2025\\\\data\\\\feature_engi_memberships\\\\rv_memberships.npy', memberships_all_soft)\n",
    "np.save('..\\\\2025\\\\data\\\\feature_engi_reduced_data\\\\rv_reduced.npy', reduced_data)"
   ]
  },
  {
   "cell_type": "code",
   "execution_count": 39,
   "metadata": {},
   "outputs": [],
   "source": [
    "\n",
    "plot_label_map(labels_highest_soft_spatial, no_cluster_soft)\n",
    "plt.savefig(save_dir + 'rv_label_map.png')\n",
    "plt.close('all')\n",
    "\n",
    "plot_manifold_labels(no_cluster_soft, labels_highest_soft, reduced_data)\n",
    "plt.savefig(save_dir + 'rv_manifold.png')\n",
    "plt.close('all')\n"
   ]
  },
  {
   "cell_type": "code",
   "execution_count": null,
   "metadata": {},
   "outputs": [],
   "source": [
    "\n",
    "plot_cluster_mean_analysis(dp=dp, include_dp_std_dev_plot=True)\n"
   ]
  },
  {
   "cell_type": "markdown",
   "metadata": {},
   "source": [
    "## Annular averaging"
   ]
  },
  {
   "cell_type": "code",
   "execution_count": 41,
   "metadata": {},
   "outputs": [],
   "source": [
    "from scipy.signal import find_peaks\n",
    "from scipy.ndimage import gaussian_filter1d\n",
    "\n",
    "\n",
    "def extract_annular_ring(image, center, r1, r2):\n",
    "    \"\"\"\n",
    "    Extracts the annular ring region between r1 and r2 radii.\n",
    "    \n",
    "    Parameters:\n",
    "    image (2D numpy array): Input diffraction pattern.\n",
    "    center (tuple): Coordinates of the center (x, y).\n",
    "    r1 (float): Inner radius of the annular ring.\n",
    "    r2 (float): Outer radius of the annular ring.\n",
    "    \n",
    "    Returns:\n",
    "    annular_ring (2D numpy array): Masked image with only the annular ring region.\n",
    "    \"\"\"\n",
    "    y, x = np.indices(image.shape)\n",
    "    r = np.sqrt((x - center[1])**2 + (y - center[0])**2)\n",
    "    mask = (r >= r1) & (r < r2)\n",
    "    return image * mask\n",
    "\n",
    "def average_intensity_per_angle(image, center, r1, r2, degree_step=5):\n",
    "    \"\"\"\n",
    "    Averages the intensity every 'degree_step' degrees in the annular ring.\n",
    "    \n",
    "    Parameters:\n",
    "    image (2D numpy array): Input diffraction pattern.\n",
    "    center (tuple): Coordinates of the center (x, y).\n",
    "    r1 (float): Inner radius of the annular ring.\n",
    "    r2 (float): Outer radius of the annular ring.\n",
    "    degree_step (int): Step size in degrees for angular averaging.\n",
    "    \n",
    "    Returns:\n",
    "    angular_profile (list): Average intensity values for each angular segment.\n",
    "    \"\"\"\n",
    "    y, x = np.indices(image.shape)\n",
    "    r = np.sqrt((x - center[1])**2 + (y - center[0])**2)\n",
    "    theta = np.arctan2(y - center[0], x - center[1]) * 180 / np.pi  # Convert to degrees\n",
    "    theta[theta < 0] += 360  # Normalize to [0, 360]\n",
    "\n",
    "    # Extract the annular ring\n",
    "    ring_image = extract_annular_ring(image, center, r1, r2)\n",
    "    ring_theta = theta[ring_image > 0]  # Angular values in the ring\n",
    "    ring_intensity = ring_image[ring_image > 0]  # Intensity values in the ring\n",
    "\n",
    "    # Average over angular segments\n",
    "    angular_profile = []\n",
    "    for angle in range(0, 360, degree_step):\n",
    "        angle_mask = (ring_theta >= angle) & (ring_theta < angle + degree_step)\n",
    "        average_intensity = np.mean(ring_intensity[angle_mask]) if np.any(angle_mask) else 0\n",
    "        angular_profile.append(average_intensity)\n",
    "    \n",
    "    return angular_profile\n",
    "\n",
    "def compute_annular_averaging(image, center, local_minima, degree_step=5):\n",
    "    \"\"\"\n",
    "    Computes the annular averaging features for all rings defined by local minima.\n",
    "    \n",
    "    Parameters:\n",
    "    image (2D numpy array): Input diffraction pattern.\n",
    "    center (tuple): Coordinates of the center (x, y).\n",
    "    local_minima (list): List of radial distances defining ring boundaries.\n",
    "    degree_step (int): Step size in degrees for angular averaging.\n",
    "    \n",
    "    Returns:\n",
    "    all_profiles (list): List of angular profiles for each annular ring.\n",
    "    \"\"\"\n",
    "    all_profiles = []\n",
    "    \n",
    "    for i in range(len(local_minima) - 1):\n",
    "        r1 = local_minima[i]\n",
    "        r2 = local_minima[i + 1]\n",
    "        angular_profile = average_intensity_per_angle(image, center, r1, r2, degree_step)\n",
    "        all_profiles.append(angular_profile)\n",
    "    \n",
    "    return all_profiles"
   ]
  },
  {
   "cell_type": "code",
   "execution_count": 80,
   "metadata": {},
   "outputs": [],
   "source": [
    "def find_peaks_in_sum_rv(sum_rv):\n",
    "    # Step 2: Identify local minima in the radial profile to define the boundaries of the annular rings\n",
    "    sum_rv = gaussian_filter1d(sum_rv, sigma=1)\n",
    "    local_minima, _ = find_peaks(-sum_rv, prominence=0.1)  # Minima are peaks of the negative radial profile\n",
    "    return local_minima"
   ]
  },
  {
   "cell_type": "code",
   "execution_count": 83,
   "metadata": {},
   "outputs": [
    {
     "data": {
      "text/plain": [
       "[<matplotlib.lines.Line2D at 0x2675443a970>]"
      ]
     },
     "execution_count": 83,
     "metadata": {},
     "output_type": "execute_result"
    }
   ],
   "source": [
    "integration1d.unfold()\n",
    "\n",
    "local_minima = find_peaks_in_sum_rv(np.log1p(integration1d.sum(axis=0).data))\n",
    "\n",
    "local_minima = np.insert(local_minima, 0, 0)\n",
    "local_minima = np.append(local_minima, integration1d.sum(axis=0).data.shape[0] - 1)\n",
    "\n",
    "plt.plot(integration1d.sum(axis=0).data, label='Radial Profile', color='blue')\n",
    "\n",
    "# Plot the local minima\n",
    "plt.plot(local_minima, integration1d.sum(axis=0).data[local_minima], 'ro', label='Local Minima')\n"
   ]
  },
  {
   "cell_type": "code",
   "execution_count": null,
   "metadata": {},
   "outputs": [],
   "source": [
    "aa_dp_list = []\n",
    "\n",
    "center=(64,64)\n",
    "\n",
    "for ind, d in enumerate(dp.data):\n",
    "    aa_dp = compute_annular_averaging(d, center, local_minima, degree_step=5)\n",
    "    aa_dp_list.append(aa_dp)\n",
    "\n",
    "aa_dp = np.array(aa_dp_list)\n",
    "aa_dp = hs.signals.Signal1D(aa_dp.reshape(80,80,-1))\n",
    "\n",
    "\n",
    "# 11 rings with 72 segments to each ring"
   ]
  },
  {
   "cell_type": "code",
   "execution_count": 94,
   "metadata": {},
   "outputs": [],
   "source": [
    "aa_dp.plot()"
   ]
  },
  {
   "cell_type": "code",
   "execution_count": 95,
   "metadata": {},
   "outputs": [
    {
     "name": "stderr",
     "output_type": "stream",
     "text": [
      "c:\\ProgramData\\Miniconda3\\envs\\datascience_3.9\\lib\\site-packages\\umap\\umap_.py:1943: UserWarning: n_jobs value -1 overridden to 1 by setting random_state. Use no seed for parallelism.\n",
      "  warn(f\"n_jobs value {self.n_jobs} overridden to 1 by setting random_state. Use no seed for parallelism.\")\n"
     ]
    },
    {
     "name": "stdout",
     "output_type": "stream",
     "text": [
      "14\n"
     ]
    }
   ],
   "source": [
    "aa_dp.unfold()\n",
    "\n",
    "pipe = Pipeline(\n",
    "[\n",
    "('reduce_dims', umap.UMAP(densmap=True, n_neighbors=10, n_components=3, min_dist=0, metric='euclidean', random_state=0)), \n",
    "]\n",
    ")\n",
    "\n",
    "reduced_data = pipe.fit_transform(aa_dp.data)\n",
    "clust = hdbscan.HDBSCAN(min_cluster_size=20, min_samples=10, prediction_data=True, metric='euclidean')\n",
    "\n",
    "clust.fit(reduced_data)\n",
    "x,y = 80,80\n",
    "\n",
    "memberships_all_soft = hdbscan.all_points_membership_vectors(clust)\n",
    "memberships_highest_soft = np.array([np.max(x) for x in memberships_all_soft])\n",
    "memberships_highest_soft_spatial = memberships_highest_soft.reshape(x, y)\n",
    "labels_highest_soft = np.array([np.argmax(x) for x in memberships_all_soft])\n",
    "labels_highest_soft_spatial = labels_highest_soft.reshape(x, y)\n",
    "no_cluster_soft = len(set(labels_highest_soft))\n",
    "print(no_cluster_soft)\n",
    "\n",
    "# plot_label_map(labels_highest_soft_spatial, no_cluster_soft)\n"
   ]
  },
  {
   "cell_type": "code",
   "execution_count": null,
   "metadata": {},
   "outputs": [],
   "source": [
    "\n",
    "np.save('..\\\\2025\\\\data\\\\feature_engi_labels\\\\aa_labels.npy', labels_highest_soft_spatial)\n"
   ]
  },
  {
   "cell_type": "code",
   "execution_count": null,
   "metadata": {},
   "outputs": [],
   "source": [
    "\n",
    "np.save('..\\\\2025\\\\data\\\\feature_engi_memberships\\\\aa_memberships.npy', memberships_all_soft)\n",
    "np.save('..\\\\2025\\\\data\\\\feature_engi_reduced_data\\\\aa_reduced.npy', reduced_data)"
   ]
  },
  {
   "cell_type": "code",
   "execution_count": 96,
   "metadata": {},
   "outputs": [],
   "source": [
    "\n",
    "plot_label_map(labels_highest_soft_spatial, no_cluster_soft)\n",
    "plt.savefig(save_dir + 'aa_dp_label_map.png')\n",
    "plt.close('all')\n",
    "\n",
    "plot_manifold_labels(no_cluster_soft, labels_highest_soft, reduced_data)\n",
    "plt.savefig(save_dir + 'aa_dp_manifold.png')\n",
    "plt.close('all')\n"
   ]
  },
  {
   "cell_type": "code",
   "execution_count": null,
   "metadata": {},
   "outputs": [],
   "source": [
    "\n",
    "plot_cluster_mean_analysis(dp=dp, include_dp_std_dev_plot=True)"
   ]
  },
  {
   "cell_type": "code",
   "execution_count": 97,
   "metadata": {},
   "outputs": [
    {
     "data": {
      "text/plain": [
       "Text(0, 0.5, 'Intensity (a.u.)')"
      ]
     },
     "execution_count": 97,
     "metadata": {},
     "output_type": "execute_result"
    }
   ],
   "source": [
    "plt.plot(aa_dp.mean().data)\n",
    "plt.xlabel('Bin channels (a.u.)')\n",
    "plt.ylabel('Intensity (a.u.)')"
   ]
  },
  {
   "cell_type": "markdown",
   "metadata": {},
   "source": [
    "# IFT"
   ]
  },
  {
   "cell_type": "code",
   "execution_count": 98,
   "metadata": {},
   "outputs": [],
   "source": [
    "import numpy as np\n",
    "\n",
    "def compute_cepstrum(I_k):\n",
    "    \"\"\"\n",
    "    Compute the cepstrum of an input electron diffraction pattern.\n",
    "\n",
    "    Parameters:\n",
    "    I_k (numpy.ndarray): Input diffraction pattern (2D array).\n",
    "\n",
    "    Returns:\n",
    "    numpy.ndarray: Cepstrum of the input diffraction pattern.\n",
    "    \"\"\"\n",
    "    # Compute the natural logarithm of the intensity\n",
    "    log_I_k = np.log1p(I_k)\n",
    "    \n",
    "    # Compute the Fourier transform of the log-transformed intensity\n",
    "    F_log_I_k = np.fft.fft2(log_I_k)\n",
    "    \n",
    "    # Step 5: Shift the FFT to center low frequencies\n",
    "    F_log_I_k_shifted = np.fft.fftshift(F_log_I_k)\n",
    "    \n",
    "    # Step 6: Compute the magnitude of the Fourier transform\n",
    "    C_p = np.abs(F_log_I_k_shifted)\n",
    "    \n",
    "    return C_p\n"
   ]
  },
  {
   "cell_type": "code",
   "execution_count": 102,
   "metadata": {},
   "outputs": [],
   "source": [
    "dp.plot()"
   ]
  },
  {
   "cell_type": "code",
   "execution_count": 99,
   "metadata": {},
   "outputs": [
    {
     "name": "stdout",
     "output_type": "stream",
     "text": [
      "[########################################] | 100% Completed | 952.80 ms\n"
     ]
    }
   ],
   "source": [
    "dp.fold()\n",
    "dp_ift = dp.map(compute_cepstrum, inplace=False)"
   ]
  },
  {
   "cell_type": "code",
   "execution_count": 103,
   "metadata": {},
   "outputs": [],
   "source": [
    "dp_ift.plot(norm='symlog')"
   ]
  },
  {
   "cell_type": "code",
   "execution_count": 100,
   "metadata": {},
   "outputs": [
    {
     "data": {
      "text/plain": [
       "<ElectronDiffraction2D, title: , dimensions: (80, 80|128, 128)>"
      ]
     },
     "execution_count": 100,
     "metadata": {},
     "output_type": "execute_result"
    }
   ],
   "source": [
    "dp_ift.fold()\n",
    "dp_ift"
   ]
  },
  {
   "cell_type": "code",
   "execution_count": 104,
   "metadata": {},
   "outputs": [],
   "source": [
    "dp_ift.unfold()\n",
    "\n",
    "plt.plot(np.mean(dp_ift.data, axis=0))\n",
    "plt.xlabel('Bin channels (a.u.)')\n",
    "plt.ylabel('Intensity (a.u.)')\n",
    "\n",
    "dp_ift.fold()\n"
   ]
  },
  {
   "cell_type": "code",
   "execution_count": 105,
   "metadata": {},
   "outputs": [
    {
     "name": "stderr",
     "output_type": "stream",
     "text": [
      "c:\\ProgramData\\Miniconda3\\envs\\datascience_3.9\\lib\\site-packages\\umap\\umap_.py:1943: UserWarning: n_jobs value -1 overridden to 1 by setting random_state. Use no seed for parallelism.\n",
      "  warn(f\"n_jobs value {self.n_jobs} overridden to 1 by setting random_state. Use no seed for parallelism.\")\n"
     ]
    },
    {
     "name": "stdout",
     "output_type": "stream",
     "text": [
      "17\n"
     ]
    }
   ],
   "source": [
    "from sklearn.pipeline import Pipeline\n",
    "import umap\n",
    "import hdbscan\n",
    "from sklearn.preprocessing import RobustScaler, Binarizer\n",
    "\n",
    "dp_ift.unfold()\n",
    "\n",
    "pipe = Pipeline(\n",
    "[\n",
    "('reduce_dims', umap.UMAP(densmap=True, n_neighbors=10, n_components=3, min_dist=0, metric='euclidean', random_state=0)),\n",
    "]\n",
    ")\n",
    "\n",
    "reduced_data = pipe.fit_transform(np.log1p(dp_ift.data))\n",
    "clust = hdbscan.HDBSCAN(min_cluster_size=20, min_samples=10, prediction_data=True, metric='euclidean')\n",
    "\n",
    "clust.fit(reduced_data)\n",
    "x,y = 80,80 \n",
    "\n",
    "memberships_all_soft = hdbscan.all_points_membership_vectors(clust)\n",
    "memberships_highest_soft = np.array([np.max(x) for x in memberships_all_soft])\n",
    "memberships_highest_soft_spatial = memberships_highest_soft.reshape(x, y)\n",
    "labels_highest_soft = np.array([np.argmax(x) for x in memberships_all_soft])\n",
    "labels_highest_soft_spatial = labels_highest_soft.reshape(x, y)\n",
    "no_cluster_soft = len(set(labels_highest_soft))\n",
    "\n",
    "print(no_cluster_soft)\n",
    "# plot_label_map(labels_highest_soft_spatial, no_cluster_soft)"
   ]
  },
  {
   "cell_type": "code",
   "execution_count": null,
   "metadata": {},
   "outputs": [],
   "source": [
    "\n",
    "np.save('..\\\\2025\\\\data\\\\feature_engi_labels\\\\ift_labels.npy', labels_highest_soft_spatial)\n"
   ]
  },
  {
   "cell_type": "code",
   "execution_count": null,
   "metadata": {},
   "outputs": [],
   "source": [
    "np.save('..\\\\2025\\\\data\\\\feature_engi_memberships\\\\ift_memberships.npy', memberships_all_soft)\n",
    "np.save('..\\\\2025\\\\data\\\\feature_engi_reduced_data\\\\ift_reduced.npy', reduced_data)"
   ]
  },
  {
   "cell_type": "code",
   "execution_count": 106,
   "metadata": {},
   "outputs": [],
   "source": [
    "\n",
    "plot_label_map(labels_highest_soft_spatial, no_cluster_soft)\n",
    "plt.savefig(save_dir + 'ift_label_map.png')\n",
    "plt.close('all')\n",
    "\n",
    "plot_manifold_labels(no_cluster_soft, labels_highest_soft, reduced_data)\n",
    "plt.savefig(save_dir + 'ift_manifold.png')\n",
    "plt.close('all')\n",
    "\n",
    "# plot_cluster_mean_analysis(dp=dp, include_dp_std_dev_plot=True)"
   ]
  },
  {
   "cell_type": "code",
   "execution_count": null,
   "metadata": {},
   "outputs": [],
   "source": [
    "plt.figure(figsize=(8, 6))\n",
    "plt.hist(dp_ift.data[32,32], bins=30, color='skyblue', edgecolor='black', alpha=0.7)\n",
    "plt.title('Distribution of Feature Array', fontsize=14)\n",
    "plt.xlabel('Feature Values', fontsize=12)\n",
    "plt.ylabel('Frequency', fontsize=12)\n",
    "plt.grid(alpha=0.3)\n",
    "plt.show()\n"
   ]
  }
 ],
 "metadata": {
  "kernelspec": {
   "display_name": "datascience_3.9",
   "language": "python",
   "name": "python3"
  },
  "language_info": {
   "codemirror_mode": {
    "name": "ipython",
    "version": 3
   },
   "file_extension": ".py",
   "mimetype": "text/x-python",
   "name": "python",
   "nbconvert_exporter": "python",
   "pygments_lexer": "ipython3",
   "version": "3.9.18"
  }
 },
 "nbformat": 4,
 "nbformat_minor": 2
}
