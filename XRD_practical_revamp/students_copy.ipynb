{
 "cells": [
  {
   "cell_type": "markdown",
   "metadata": {},
   "source": [
    "# X-ray Diffraction Practical Class - Data Analysis (Student's copy)"
   ]
  },
  {
   "cell_type": "markdown",
   "metadata": {},
   "source": [
    "## Class Introduction\n",
    "\n",
    "This [Jupyter](http://jupyter.org) notebook is to accompany the X-ray Diffraction Practical (XRD) practical class.  The notebook will help you complete the Part 2 and Part 3 of the assessments."
   ]
  },
  {
   "cell_type": "markdown",
   "metadata": {},
   "source": [
    "## Learning Objectives - Whole Course\n",
    "By the end of the two afternoon practical session you will:\n",
    "- Have a basic understanding of the practical design of a diffractometer and be able to identify key components from both kinds\n",
    "- You will be familiar with the concept of X-ray radiation in the context of powder diffraction and understand why different energy X-rays are used to analyse samples with different compositions\n",
    "- You will have applied Bragg's law for the conversion of diffraction angle (&deg;2&theta;) and d-spacing (&#8491;)\n",
    "- You will have experience preparing a powder sample for measurement\n",
    "- An appreciation of the key components of a standard powder diffraction measurement along with analysing the results\n",
    "- You will have a rudimentary knowledge of phase identification and will have applied it to diffraction patterns of\n",
    "    - A pure sample\n",
    "    - A mixed sample\n",
    "- Be able to interpret the diffraction patterns from an unknown mixture of known composition to build a calibration curve and determine from the pattern of an unknown mixture of the composition of the mixture\n",
    "- Develop an appreciation of the use of python for data analysis"
   ]
  },
  {
   "cell_type": "markdown",
   "metadata": {},
   "source": [
    "# READ THIS\n",
    "\n",
    "Please read through the text accompanying the code cells carefully. Failure to do so will result in an inability to pass the quiz."
   ]
  },
  {
   "cell_type": "markdown",
   "metadata": {},
   "source": [
    "## Juypter Notebook Introduction\n",
    "[Jupyter notebook](http://www.jupyter.org) is a dynamic open-source web application which can be hosted locally allowing you to generate rich project documents containing documentation, images, live code and results.  The projects can be easily shared and since we are utilising the Jupyter interface for [python](http://www.python.org) based projects the system is truly cross platform, Windows, MAC and Linux compatible.  It is progressively being used more and more as a method of reporting scientific data in peer reviewed journals.[1]\n",
    "\n",
    "The notebook is built up of cells - each cell has the format of either being <code>Markdown</code> or <code>source code</code>.\n",
    "\n",
    "*This notebook is yours so feel free to edit the cells and expand or alter the examples to help you learn and understand the process. Remember to make a backup copy first though.*\n",
    "\n",
    "[1]:https://doi.org/10.1103/PhysRevLett.116.061102"
   ]
  },
  {
   "cell_type": "markdown",
   "metadata": {},
   "source": [
    "# Load imports\n",
    "\n",
    "The `os` module provides functions for interacting with the operating system. You can use it to handle file paths, read or write files, and manage directories.\n",
    "\n",
    "The `pandas` library is essential for data manipulation and analysis. It provides powerful data structures like DataFrames, which allow for easy handling of tabular data.\n",
    "\n",
    "`numpy` is a fundamental package for numerical computing in Python. It provides support for large multi-dimensional arrays and matrices, along with a collection of mathematical functions to operate on these arrays. \n",
    "\n",
    "\n",
    "`matplotlib` is a plotting library for creating static, animated, and interactive visualizations in Python. The pyplot module provides a MATLAB-like interface for creating plots and graphs.\n",
    "\n",
    "`scipy` is a library used for scientific and technical computing. The find_peaks function from scipy.signal is used to identify peaks (local maxima) in data, which is particularly useful for signal processing.\n",
    "\n",
    "`pybaselines` is a library for baseline correction, which is a common preprocessing step in signal processing.\n",
    "\n",
    "\n",
    "$\\color{red}{\\text{IMPORTANT}}$\n",
    "\n",
    "Ask a demonstrator for assistance if the imports fail to load correctly. Alternatively, you may try running the notebook on your own personal laptop."
   ]
  },
  {
   "cell_type": "code",
   "execution_count": 4,
   "metadata": {},
   "outputs": [],
   "source": [
    "%matplotlib qt5\n",
    "\n",
    "import os, sys\n",
    "import pandas as pd\n",
    "import numpy as np\n",
    "import matplotlib.pyplot as plt\n",
    "\n",
    "from scipy.signal import find_peaks\n",
    "\n",
    "import os, sys\n",
    "sys.path.insert(0,os.path.expanduser(os.path.join(\".\",\"pybaselines-main\")))\n",
    "\n",
    "from pybaselines import Baseline\n",
    "from pybaselines import polynomial"
   ]
  },
  {
   "cell_type": "markdown",
   "metadata": {},
   "source": [
    "# Part 2 : Identification of pure unknown phase X\n",
    "\n",
    "## Overview\n",
    "\n",
    "You are given a XRD spectra of an unknown phase X.\n",
    "\n",
    "The broad objectives are to:\n",
    "\n",
    "Identify a suitable background subtraction method for the XRD spectra\n",
    "\n",
    "Identify the 2-theta positions of the 3 strongest peaks in the XRD spectra\n",
    "\n",
    "Identify the d-spacings corresponding to the peaks to which you have found\n",
    "\n",
    "Cross reference the 2-theta peak positions to a reference materials database called 'PDF Database Index.csv' and hence, identify the unknown material.\n",
    "\n",
    "Use the following code to assist you in answering questions to Part 2 of the blackboard quiz.\n"
   ]
  },
  {
   "cell_type": "markdown",
   "metadata": {},
   "source": [
    "## Load data\n",
    "\n",
    "If the file does not load, make sure that your pwd is within the `xrd_practical` folder that you have just unzipped.\n",
    "\n",
    "Check by running the `pwd` cell below.\n",
    "\n",
    "If it is not within the `xrd_practical` folder, use the command `cd` to change your directory."
   ]
  },
  {
   "cell_type": "code",
   "execution_count": null,
   "metadata": {},
   "outputs": [
    {
     "ename": "NameError",
     "evalue": "name 'p' is not defined",
     "output_type": "error",
     "traceback": [
      "\u001b[1;31m---------------------------------------------------------------------------\u001b[0m",
      "\u001b[1;31mNameError\u001b[0m                                 Traceback (most recent call last)",
      "Cell \u001b[1;32mIn[18], line 1\u001b[0m\n\u001b[1;32m----> 1\u001b[0m \u001b[43mp\u001b[49m\n",
      "\u001b[1;31mNameError\u001b[0m: name 'p' is not defined"
     ]
    }
   ],
   "source": [
    "pwd"
   ]
  },
  {
   "cell_type": "code",
   "execution_count": 5,
   "metadata": {},
   "outputs": [],
   "source": [
    "relative_dir = r'.\\\\data\\\\'\n",
    "filename = r'part_2_unknown.csv'\n",
    "full_path = os.path.join(os.getcwd() + relative_dir, filename)"
   ]
  },
  {
   "cell_type": "code",
   "execution_count": null,
   "metadata": {},
   "outputs": [
    {
     "data": {
      "text/plain": [
       "Text(0.5, 1.0, 'Pure A')"
      ]
     },
     "execution_count": 6,
     "metadata": {},
     "output_type": "execute_result"
    }
   ],
   "source": [
    "data = pd.read_csv(full_path, usecols=[1,2])\n",
    "\n",
    "y = data['Intensity'].to_numpy()\n",
    "x = data['2 theta'].to_numpy()\n",
    "\n",
    "data.plot(x='2 theta', y='Intensity')\n",
    "plt.title('Pure X')"
   ]
  },
  {
   "cell_type": "markdown",
   "metadata": {},
   "source": [
    "## Identify the best background subtraction method\n",
    "\n",
    "An anonymous scientist S.H. has collected this xrd spectra on a glass substrate. The glass substrate has contributed to a large background hump in the xrd spectra that is detrimental to analysis.\n",
    "\n",
    "There are three different methods for background subtraction - only one of them will provide the right answer for quantitative analysis later on.\n",
    "\n",
    "$\\color{red}{\\text{IMPORTANT}}$\n",
    "\n",
    "The correct method should be fairly obvious, if you do not get this right $\\textbf{the error will propagate through the whole script}$ and your answers to the quiz will be wrong. Please check with a demonstrator if you are unsure. \n",
    "\n",
    "Once you have settled on a particular method, $\\textbf{rerun ALL cells under that method header}$ again to ensure that the variables are storing the correctly subtracted intensity values."
   ]
  },
  {
   "cell_type": "markdown",
   "metadata": {},
   "source": [
    "### Try different background subtraction methods"
   ]
  },
  {
   "cell_type": "markdown",
   "metadata": {},
   "source": [
    "#### Method 1"
   ]
  },
  {
   "cell_type": "code",
   "execution_count": null,
   "metadata": {},
   "outputs": [],
   "source": [
    "poly_order = 6\n",
    "baseline, params = polynomial.imodpoly(data=y,x_data=x, poly_order=poly_order)\n",
    "y_subtracted = y - baseline\n",
    "y_subtracted[y_subtracted<0]=0"
   ]
  },
  {
   "cell_type": "code",
   "execution_count": 2,
   "metadata": {},
   "outputs": [
    {
     "ename": "NameError",
     "evalue": "name 'plt' is not defined",
     "output_type": "error",
     "traceback": [
      "\u001b[1;31m---------------------------------------------------------------------------\u001b[0m",
      "\u001b[1;31mNameError\u001b[0m                                 Traceback (most recent call last)",
      "Cell \u001b[1;32mIn[2], line 1\u001b[0m\n\u001b[1;32m----> 1\u001b[0m fig, ax \u001b[38;5;241m=\u001b[39m \u001b[43mplt\u001b[49m\u001b[38;5;241m.\u001b[39msubplots(tight_layout\u001b[38;5;241m=\u001b[39m{\u001b[38;5;124m'\u001b[39m\u001b[38;5;124mpad\u001b[39m\u001b[38;5;124m'\u001b[39m: \u001b[38;5;241m0.2\u001b[39m})\n\u001b[0;32m      2\u001b[0m data_handle \u001b[38;5;241m=\u001b[39m ax\u001b[38;5;241m.\u001b[39mplot(y)\n\u001b[0;32m      3\u001b[0m baseline_handle \u001b[38;5;241m=\u001b[39m ax\u001b[38;5;241m.\u001b[39mplot(baseline, \u001b[38;5;124m'\u001b[39m\u001b[38;5;124m--\u001b[39m\u001b[38;5;124m'\u001b[39m)\n",
      "\u001b[1;31mNameError\u001b[0m: name 'plt' is not defined"
     ]
    }
   ],
   "source": [
    "\n",
    "fig, ax = plt.subplots(tight_layout={'pad': 0.2})\n",
    "data_handle = ax.plot(y)\n",
    "baseline_handle = ax.plot(baseline, '--')\n",
    "ax.legend(\n",
    "    (data_handle[0], baseline_handle[0]),\n",
    "    ('data','fit baseline'), frameon=False\n",
    ")\n",
    "plt.show()"
   ]
  },
  {
   "cell_type": "code",
   "execution_count": 17,
   "metadata": {},
   "outputs": [],
   "source": [
    "\n",
    "plt.figure()\n",
    "plt.title('Post-background subtraction')\n",
    "plt.plot(x, y_subtracted, alpha=0.5, label='background subtracted')\n",
    "plt.plot(x, y, alpha=0.5, label='original')\n",
    "plt.legend()\n",
    "plt.xlabel('2-theta')\n",
    "plt.ylabel('Intensity')\n",
    "plt.show()\n"
   ]
  },
  {
   "cell_type": "markdown",
   "metadata": {},
   "source": [
    "#### Method 2"
   ]
  },
  {
   "cell_type": "code",
   "execution_count": 7,
   "metadata": {},
   "outputs": [],
   "source": [
    "baseline_fitter = Baseline(x_data=x)\n",
    "half_window = 20\n",
    "baseline = baseline_fitter.mor(y, half_window=half_window)[0]\n",
    "y_subtracted = y - baseline\n",
    "y_subtracted[y_subtracted<0]=0"
   ]
  },
  {
   "cell_type": "code",
   "execution_count": 11,
   "metadata": {},
   "outputs": [
    {
     "data": {
      "text/plain": [
       "<matplotlib.legend.Legend at 0x275de30b700>"
      ]
     },
     "execution_count": 11,
     "metadata": {},
     "output_type": "execute_result"
    }
   ],
   "source": [
    "\n",
    "plt.figure()\n",
    "plt.plot(y, label='data')\n",
    "plt.plot(baseline, label=f'baseline')\n",
    "plt.legend()"
   ]
  },
  {
   "cell_type": "code",
   "execution_count": 10,
   "metadata": {},
   "outputs": [],
   "source": [
    "\n",
    "plt.figure()\n",
    "plt.title('Post-background subtraction')\n",
    "plt.plot(x, y_subtracted, alpha=0.5, label='background subtracted')\n",
    "plt.plot(x, y, alpha=0.5, label='original')\n",
    "plt.legend()\n",
    "plt.xlabel('2-theta')\n",
    "plt.ylabel('Intensity')\n",
    "plt.show()\n"
   ]
  },
  {
   "cell_type": "markdown",
   "metadata": {},
   "source": [
    "#### Method 3"
   ]
  },
  {
   "cell_type": "code",
   "execution_count": 12,
   "metadata": {},
   "outputs": [],
   "source": [
    "baseline_fitter = Baseline(x_data=x)\n",
    "baseline = baseline_fitter.beads( y, lam_0=0.00006, lam_1=0.00008, lam_2=0.05, fit_parabola=False, tol=1e-3, freq_cutoff=0.04, asymmetry=3)[0]\n",
    "y_subtracted = y - baseline\n",
    "y_subtracted[y_subtracted<0]=0"
   ]
  },
  {
   "cell_type": "code",
   "execution_count": 13,
   "metadata": {},
   "outputs": [
    {
     "data": {
      "text/plain": [
       "<matplotlib.legend.Legend at 0x275de62df40>"
      ]
     },
     "execution_count": 13,
     "metadata": {},
     "output_type": "execute_result"
    }
   ],
   "source": [
    "plt.figure()\n",
    "plt.plot(y, label='data')\n",
    "plt.plot(baseline, label=f'baseline')\n",
    "plt.legend()"
   ]
  },
  {
   "cell_type": "code",
   "execution_count": 14,
   "metadata": {},
   "outputs": [],
   "source": [
    "plt.figure()\n",
    "plt.title('Post-background subtraction')\n",
    "plt.plot(x, y_subtracted, alpha=0.5, label='background subtracted')\n",
    "plt.plot(x, y, alpha=0.5, label='original')\n",
    "plt.legend()\n",
    "plt.xlabel('2-theta')\n",
    "plt.ylabel('Intensity')\n",
    "plt.show()\n"
   ]
  },
  {
   "cell_type": "markdown",
   "metadata": {},
   "source": [
    "## Identify the 2-theta peak positions corresponding to the three largest d-spacings using scipy find_peaks function\n",
    "\n",
    "Ensure that you have re-run the cells corresponding to the background subtraction method you have chosen.\n",
    "\n",
    "Use the plotted graph to ensure that the first three prominent peaks are correctly found to compare with the database\n",
    "\n",
    "Hint - the parameters in `find_peaks` have to be optimized until the red 'x's only identify the real peaks within the spectra rather than the background.\n",
    "\n",
    "Have a look at the documentation to see what `distance`, `height`, `prominence` do.\n",
    "\n",
    "https://docs.scipy.org/doc/scipy/reference/generated/scipy.signal.find_peaks.html\n"
   ]
  },
  {
   "cell_type": "code",
   "execution_count": null,
   "metadata": {},
   "outputs": [],
   "source": [
    "peaks, _ = find_peaks(y_subtracted, distance=10, height=10, prominence=10)  \n",
    "# Adjust distance/height as needed to only include peaks and not background\n",
    "# Play with other parameters if necessary\n",
    "\n",
    "# Plot original data and highlight peaks\n",
    "plt.figure()\n",
    "plt.plot(x, y_subtracted, label='XRD Data')\n",
    "plt.plot(x[peaks], y_subtracted[peaks], 'x', label='Peaks', color='red')\n",
    "plt.legend()\n",
    "plt.xlabel('2-theta')\n",
    "plt.ylabel('Intensity')\n",
    "plt.show()\n"
   ]
  },
  {
   "cell_type": "code",
   "execution_count": 9,
   "metadata": {},
   "outputs": [
    {
     "name": "stdout",
     "output_type": "stream",
     "text": [
      "peak 0 :10.08\n",
      "peak 1 :10.33\n",
      "peak 2 :10.65\n"
     ]
    }
   ],
   "source": [
    "for i in range(3):\n",
    "    print(f'peak {i} :' + f'{round(x[peaks][i],2)}')"
   ]
  },
  {
   "cell_type": "markdown",
   "metadata": {},
   "source": [
    "## Calculate d-spacing for the three peaks identified"
   ]
  },
  {
   "cell_type": "markdown",
   "metadata": {},
   "source": [
    "### Bragg's Law\n",
    "\n",
    "Is the simple numerical relationship between the angle (&theta;) of the observed diffraction intensity in relation to the wavelength of the radiation source (&lambda;) and the lattice spacing of the material being probed (d)\n"
   ]
  },
  {
   "cell_type": "markdown",
   "metadata": {},
   "source": [
    "### Hints\n",
    "\n",
    "\n",
    "X-ray diffraction data is acquired for a range of 2&theta; angles in degrees using Cu-K-alpha radiation. The upper and lower limits of the diffraction pattern govern the minimum and maximum lattice spacings observable within the pattern.\n",
    "\n",
    "To calculate either the minimum or maximum lattice spacing (d-spacings, remember that it is a reciprocal relationship between 2&theta; and d-spacing) that can be measured in any crystal  we first need to identify which is of interest and then simply rearrange Bragg's law to provide the answer in d-spacing\n",
    "\n",
    "`np.radians` is required to take our data in measure in degrees and place it into the correct format, radians, for the function.\n",
    "\n",
    "\n",
    "$\\color{red}{\\text{IMPORTANT}}$\n",
    "    \n",
    "There is an error in the Bragg's law function below which you must edit or it will give the wrong answer\n",
    "\n",
    "Check the units\n"
   ]
  },
  {
   "cell_type": "code",
   "execution_count": null,
   "metadata": {},
   "outputs": [
    {
     "name": "stdout",
     "output_type": "stream",
     "text": [
      "The d-spacing is: 0.417 nm\n"
     ]
    }
   ],
   "source": [
    "def calculate_d_spacing(n, wavelength, theta):\n",
    "    \"\"\"\n",
    "    Calculate the d-spacing using Bragg's law.\n",
    "\n",
    "    Parameters:\n",
    "        n (int): Order of diffraction\n",
    "        wavelength (float): Wavelength of X-rays (in nm)\n",
    "        theta (float): Angle of incidence (in degrees)\n",
    "\n",
    "    Returns:\n",
    "        float: d-spacing (nm)\n",
    "    \"\"\"\n",
    "    # Convert theta from degrees to radians\n",
    "    theta = np.radians(theta)\n",
    "    \n",
    "    # Calculate d-spacing using Bragg's law\n",
    "    d_spacing = (n * wavelength) / (2 * np.sin(theta))\n",
    "    \n",
    "    return d_spacing\n",
    "\n",
    "n = 1\n",
    "wavelength = 0.15418 # corresponding to Cu k_alpha \n",
    "\n",
    "peak_index = 2 # change this to match the peak index\n",
    "theta = x[peaks][peak_index]\n",
    "\n",
    "d_spacing = calculate_d_spacing(n, wavelength, theta)\n",
    "\n",
    "print(f\"The d-spacing for peak {peak_index}: {round(d_spacing,3)} nm\")\n"
   ]
  },
  {
   "cell_type": "markdown",
   "metadata": {},
   "source": [
    "## Compare found 2-theta peak positions to a reference material database\n",
    "\n",
    "The powder diffraction pattern is a “fingerprint” of the material. We can utilise a database of peak positions and relative intensities to match to your pattern. These are often referred to as “phases”. However diffraction patterns are not always unique and therefore you must use chemical sense and select phases /material patterns that could be present in your sample. It should be noted that intensities can vary as a function of preferred orientation and sample quality. These can differ from measurement to measurement so sample rotation and good preparation is normally employed to help mitigate these factors.\n",
    "\n",
    "Does it match? If so on how many peaks? Is it just peak position and not intensity or both.\n",
    "Are there residual peaks leftover over? Could it be more than one phase?\n",
    "\n",
    "Are there parameters you can change to reduce the number of matches? Keep it simple, the fewer phases the better.\n"
   ]
  },
  {
   "cell_type": "markdown",
   "metadata": {},
   "source": [
    "### Load database"
   ]
  },
  {
   "cell_type": "code",
   "execution_count": null,
   "metadata": {},
   "outputs": [
    {
     "name": "stderr",
     "output_type": "stream",
     "text": [
      "C:\\Users\\Zhi Quan\\AppData\\Local\\Temp\\ipykernel_28364\\1118830995.py:7: FutureWarning: errors='ignore' is deprecated and will raise in a future version. Use to_numeric without passing `errors` and catch exceptions explicitly instead\n",
      "  database[col] = pd.to_numeric(database[col], errors='ignore', downcast='integer')\n"
     ]
    },
    {
     "data": {
      "text/html": [
       "<div>\n",
       "<style scoped>\n",
       "    .dataframe tbody tr th:only-of-type {\n",
       "        vertical-align: middle;\n",
       "    }\n",
       "\n",
       "    .dataframe tbody tr th {\n",
       "        vertical-align: top;\n",
       "    }\n",
       "\n",
       "    .dataframe thead th {\n",
       "        text-align: right;\n",
       "    }\n",
       "</style>\n",
       "<table border=\"1\" class=\"dataframe\">\n",
       "  <thead>\n",
       "    <tr style=\"text-align: right;\">\n",
       "      <th></th>\n",
       "      <th>Reference Code</th>\n",
       "      <th>PDF FileName</th>\n",
       "      <th>Powder Pattern</th>\n",
       "      <th>Name</th>\n",
       "      <th>No.</th>\n",
       "      <th>h</th>\n",
       "      <th>k</th>\n",
       "      <th>l</th>\n",
       "      <th>d</th>\n",
       "      <th>2Theta[deg]</th>\n",
       "      <th>I [%]</th>\n",
       "    </tr>\n",
       "  </thead>\n",
       "  <tbody>\n",
       "    <tr>\n",
       "      <th>0</th>\n",
       "      <td>00-004-0673</td>\n",
       "      <td>00-004-0673.pdf</td>\n",
       "      <td>00-004-0673.RD</td>\n",
       "      <td>Tin</td>\n",
       "      <td>1.0</td>\n",
       "      <td>2.0</td>\n",
       "      <td>0.0</td>\n",
       "      <td>0.0</td>\n",
       "      <td>2.915</td>\n",
       "      <td>30.645</td>\n",
       "      <td>100.0</td>\n",
       "    </tr>\n",
       "    <tr>\n",
       "      <th>1</th>\n",
       "      <td>00-004-0674</td>\n",
       "      <td>00-004-0673.pdf</td>\n",
       "      <td>00-004-0673.RD</td>\n",
       "      <td>Tin</td>\n",
       "      <td>2.0</td>\n",
       "      <td>1.0</td>\n",
       "      <td>0.0</td>\n",
       "      <td>1.0</td>\n",
       "      <td>2.793</td>\n",
       "      <td>32.019</td>\n",
       "      <td>90.0</td>\n",
       "    </tr>\n",
       "    <tr>\n",
       "      <th>2</th>\n",
       "      <td>00-004-0675</td>\n",
       "      <td>00-004-0673.pdf</td>\n",
       "      <td>00-004-0673.RD</td>\n",
       "      <td>Tin</td>\n",
       "      <td>3.0</td>\n",
       "      <td>2.0</td>\n",
       "      <td>2.0</td>\n",
       "      <td>0.0</td>\n",
       "      <td>2.062</td>\n",
       "      <td>43.872</td>\n",
       "      <td>34.0</td>\n",
       "    </tr>\n",
       "    <tr>\n",
       "      <th>3</th>\n",
       "      <td></td>\n",
       "      <td></td>\n",
       "      <td></td>\n",
       "      <td></td>\n",
       "      <td>NaN</td>\n",
       "      <td>NaN</td>\n",
       "      <td>NaN</td>\n",
       "      <td>NaN</td>\n",
       "      <td>NaN</td>\n",
       "      <td>NaN</td>\n",
       "      <td>NaN</td>\n",
       "    </tr>\n",
       "    <tr>\n",
       "      <th>4</th>\n",
       "      <td>00-004-0783</td>\n",
       "      <td>00-004-0783.pdf</td>\n",
       "      <td>00-004-0783.RD</td>\n",
       "      <td>Silver</td>\n",
       "      <td>1.0</td>\n",
       "      <td>1.0</td>\n",
       "      <td>1.0</td>\n",
       "      <td>1.0</td>\n",
       "      <td>2.359</td>\n",
       "      <td>38.117</td>\n",
       "      <td>100.0</td>\n",
       "    </tr>\n",
       "  </tbody>\n",
       "</table>\n",
       "</div>"
      ],
      "text/plain": [
       "  Reference Code     PDF FileName  Powder Pattern    Name  No.     h    k  \\\n",
       "0    00-004-0673  00-004-0673.pdf  00-004-0673.RD     Tin   1.0  2.0  0.0   \n",
       "1    00-004-0674  00-004-0673.pdf  00-004-0673.RD     Tin   2.0  1.0  0.0   \n",
       "2    00-004-0675  00-004-0673.pdf  00-004-0673.RD     Tin   3.0  2.0  2.0   \n",
       "3                                                           NaN  NaN  NaN   \n",
       "4    00-004-0783  00-004-0783.pdf  00-004-0783.RD  Silver   1.0  1.0  1.0   \n",
       "\n",
       "     l      d  2Theta[deg]   I [%]  \n",
       "0  0.0  2.915       30.645   100.0  \n",
       "1  1.0  2.793       32.019    90.0  \n",
       "2  0.0  2.062       43.872    34.0  \n",
       "3  NaN    NaN          NaN     NaN  \n",
       "4  1.0  2.359       38.117   100.0  "
      ]
     },
     "execution_count": 11,
     "metadata": {},
     "output_type": "execute_result"
    }
   ],
   "source": [
    "database_loc = 'PDF Database Index.csv'\n",
    "\n",
    "database = pd.read_csv(database_loc,keep_default_na=False)\n",
    "\n",
    "for col in database.columns:\n",
    "    # this coerces column values to integer whenever possible\n",
    "    database[col] = pd.to_numeric(database[col], errors='ignore', downcast='integer')\n",
    "\n",
    "database.head() # This just shows a preview of the database that has just been loaded"
   ]
  },
  {
   "cell_type": "markdown",
   "metadata": {},
   "source": [
    "### Match the three found peaks to the database\n",
    "\n",
    "$\\color{red}{\\text{IMPORTANT}}$\n",
    "\n",
    "\n",
    "You need to input the correct `match_tolerance` level for the match to occur. \n",
    "\n",
    "E.g. if your experimentally found 2-theta peak position is 27.4 deg and the PDF database has a 2-theta peak position of 27.9 deg, you need a `match_tolerance` of at least 0.5\n",
    "\n",
    "However. increasing `match_tolerance` too much can result in many false positive matches with the database.\n",
    "\n",
    "Identify the corresponding pdf reference that matches to the correct phase."
   ]
  },
  {
   "cell_type": "markdown",
   "metadata": {},
   "source": [
    "#### Matching the first peak"
   ]
  },
  {
   "cell_type": "code",
   "execution_count": 12,
   "metadata": {},
   "outputs": [
    {
     "data": {
      "text/plain": [
       "0                   Tin\n",
       "1                   Tin\n",
       "2                   Tin\n",
       "4                Silver\n",
       "5                Silver\n",
       "             ...       \n",
       "149    Titanium Nitride\n",
       "150    Titanium Nitride\n",
       "152     Magnesium Oxide\n",
       "153     Magnesium Oxide\n",
       "154     Magnesium Oxide\n",
       "Name: Name, Length: 117, dtype: object"
      ]
     },
     "execution_count": 12,
     "metadata": {},
     "output_type": "execute_result"
    }
   ],
   "source": [
    "target_peak = x[peaks][0] # this is finding matches for the first identified peak\n",
    "\n",
    "match_tolerance = 100 # change as necessary\n",
    "match_1 = database['Name'][database['2Theta[deg]'].apply(lambda x: abs(x - target_peak) < match_tolerance)]\n",
    "match_1"
   ]
  },
  {
   "cell_type": "markdown",
   "metadata": {},
   "source": [
    "#### Matching the second peak"
   ]
  },
  {
   "cell_type": "code",
   "execution_count": 13,
   "metadata": {},
   "outputs": [
    {
     "data": {
      "text/plain": [
       "0                   Tin\n",
       "1                   Tin\n",
       "2                   Tin\n",
       "4                Silver\n",
       "5                Silver\n",
       "             ...       \n",
       "149    Titanium Nitride\n",
       "150    Titanium Nitride\n",
       "152     Magnesium Oxide\n",
       "153     Magnesium Oxide\n",
       "154     Magnesium Oxide\n",
       "Name: Name, Length: 117, dtype: object"
      ]
     },
     "execution_count": 13,
     "metadata": {},
     "output_type": "execute_result"
    }
   ],
   "source": [
    "target_value = x[peaks][1] # this is finding matches for the second identified peak\n",
    "match_tolerance = 100 # change as necessary\n",
    "match_2 = database['Name'][database['2Theta[deg]'].apply(lambda x: abs(x - target_value) < match_tolerance)]\n",
    "match_2"
   ]
  },
  {
   "cell_type": "markdown",
   "metadata": {},
   "source": [
    "#### Matching the third peak"
   ]
  },
  {
   "cell_type": "code",
   "execution_count": 14,
   "metadata": {},
   "outputs": [
    {
     "data": {
      "text/plain": [
       "0                   Tin\n",
       "1                   Tin\n",
       "2                   Tin\n",
       "4                Silver\n",
       "5                Silver\n",
       "             ...       \n",
       "149    Titanium Nitride\n",
       "150    Titanium Nitride\n",
       "152     Magnesium Oxide\n",
       "153     Magnesium Oxide\n",
       "154     Magnesium Oxide\n",
       "Name: Name, Length: 117, dtype: object"
      ]
     },
     "execution_count": 14,
     "metadata": {},
     "output_type": "execute_result"
    }
   ],
   "source": [
    "target_value = x[peaks][2] # this is finding matches for the third identified peak\n",
    "match_tolerance = 100 # change as necessary\n",
    "match_3 = database['Name'][database['2Theta[deg]'].apply(lambda x: abs(x - target_value) < match_tolerance)]\n",
    "match_3"
   ]
  },
  {
   "cell_type": "markdown",
   "metadata": {},
   "source": [
    "#### Finding the common intersection of matches amongst the three peaks using set operations\n",
    "\n",
    "Ideally, there should only be one final answer.\n",
    "\n",
    "The code below only does a intersecting set between the smallest and 2nd smallest 2-theta peak positions. You can try other intersections such as `match_2` and `match_3`. A match between two out of the three identified 2-theta peak positions should be sufficient to arrive at a single answer with the correct `match_tolerance` parameters. "
   ]
  },
  {
   "cell_type": "code",
   "execution_count": 15,
   "metadata": {},
   "outputs": [
    {
     "data": {
      "text/plain": [
       "['Titanium Oxide',\n",
       " 'Copper Sulfate Hydrate',\n",
       " 'Aluminum',\n",
       " 'Isotactic Polypropylene',\n",
       " 'Silver',\n",
       " 'Carbon',\n",
       " 'Sucrose',\n",
       " 'Iron Oxide',\n",
       " 'Copper Chloride Hydrate',\n",
       " 'Copper',\n",
       " 'Platinum',\n",
       " 'Chromium',\n",
       " 'Zirconium',\n",
       " 'Potassium Bromide',\n",
       " 'Barium Titanium Oxide',\n",
       " 'Titanium Nitride',\n",
       " 'Tin',\n",
       " 'Calcium Fluoride',\n",
       " 'Cobalt Iron',\n",
       " 'Zinc Sulfide',\n",
       " 'Uranium',\n",
       " 'Gold',\n",
       " 'Polypropylene',\n",
       " 'Sodium Chloride',\n",
       " 'Magnesium Oxide',\n",
       " 'Copper Oxide']"
      ]
     },
     "execution_count": 15,
     "metadata": {},
     "output_type": "execute_result"
    }
   ],
   "source": [
    "intersecting_set = set(match_1).intersection(match_2)\n",
    "intersecting_set = list(intersecting_set)\n",
    "# use different matches, e.g. 1,3 or 2,3\n",
    "intersecting_set"
   ]
  },
  {
   "cell_type": "markdown",
   "metadata": {},
   "source": [
    "Once you have identified the compound, cross-refer to 'PDF Database Index.csv' to identify the corresponding Reference Code.\n",
    "\n",
    "Optional: Try to obtain the reference code by selecting the appropriate index in `database` using `Reference Code` column\n",
    "\n",
    "Refer to https://pandas.pydata.org/docs/user_guide/indexing.html\n",
    "\n",
    "Otherwise, just look it up in the excel sheet."
   ]
  },
  {
   "cell_type": "code",
   "execution_count": 16,
   "metadata": {},
   "outputs": [
    {
     "data": {
      "text/html": [
       "<div>\n",
       "<style scoped>\n",
       "    .dataframe tbody tr th:only-of-type {\n",
       "        vertical-align: middle;\n",
       "    }\n",
       "\n",
       "    .dataframe tbody tr th {\n",
       "        vertical-align: top;\n",
       "    }\n",
       "\n",
       "    .dataframe thead th {\n",
       "        text-align: right;\n",
       "    }\n",
       "</style>\n",
       "<table border=\"1\" class=\"dataframe\">\n",
       "  <thead>\n",
       "    <tr style=\"text-align: right;\">\n",
       "      <th></th>\n",
       "      <th>Reference Code</th>\n",
       "      <th>PDF FileName</th>\n",
       "      <th>Powder Pattern</th>\n",
       "      <th>Name</th>\n",
       "      <th>No.</th>\n",
       "      <th>h</th>\n",
       "      <th>k</th>\n",
       "      <th>l</th>\n",
       "      <th>d</th>\n",
       "      <th>2Theta[deg]</th>\n",
       "      <th>I [%]</th>\n",
       "    </tr>\n",
       "  </thead>\n",
       "  <tbody>\n",
       "    <tr>\n",
       "      <th>0</th>\n",
       "      <td>00-004-0673</td>\n",
       "      <td>00-004-0673.pdf</td>\n",
       "      <td>00-004-0673.RD</td>\n",
       "      <td>Tin</td>\n",
       "      <td>1.0</td>\n",
       "      <td>2.0</td>\n",
       "      <td>0.0</td>\n",
       "      <td>0.0</td>\n",
       "      <td>2.915</td>\n",
       "      <td>30.645</td>\n",
       "      <td>100.0</td>\n",
       "    </tr>\n",
       "    <tr>\n",
       "      <th>1</th>\n",
       "      <td>00-004-0674</td>\n",
       "      <td>00-004-0673.pdf</td>\n",
       "      <td>00-004-0673.RD</td>\n",
       "      <td>Tin</td>\n",
       "      <td>2.0</td>\n",
       "      <td>1.0</td>\n",
       "      <td>0.0</td>\n",
       "      <td>1.0</td>\n",
       "      <td>2.793</td>\n",
       "      <td>32.019</td>\n",
       "      <td>90.0</td>\n",
       "    </tr>\n",
       "    <tr>\n",
       "      <th>2</th>\n",
       "      <td>00-004-0675</td>\n",
       "      <td>00-004-0673.pdf</td>\n",
       "      <td>00-004-0673.RD</td>\n",
       "      <td>Tin</td>\n",
       "      <td>3.0</td>\n",
       "      <td>2.0</td>\n",
       "      <td>2.0</td>\n",
       "      <td>0.0</td>\n",
       "      <td>2.062</td>\n",
       "      <td>43.872</td>\n",
       "      <td>34.0</td>\n",
       "    </tr>\n",
       "    <tr>\n",
       "      <th>3</th>\n",
       "      <td></td>\n",
       "      <td></td>\n",
       "      <td></td>\n",
       "      <td></td>\n",
       "      <td>NaN</td>\n",
       "      <td>NaN</td>\n",
       "      <td>NaN</td>\n",
       "      <td>NaN</td>\n",
       "      <td>NaN</td>\n",
       "      <td>NaN</td>\n",
       "      <td>NaN</td>\n",
       "    </tr>\n",
       "    <tr>\n",
       "      <th>4</th>\n",
       "      <td>00-004-0783</td>\n",
       "      <td>00-004-0783.pdf</td>\n",
       "      <td>00-004-0783.RD</td>\n",
       "      <td>Silver</td>\n",
       "      <td>1.0</td>\n",
       "      <td>1.0</td>\n",
       "      <td>1.0</td>\n",
       "      <td>1.0</td>\n",
       "      <td>2.359</td>\n",
       "      <td>38.117</td>\n",
       "      <td>100.0</td>\n",
       "    </tr>\n",
       "  </tbody>\n",
       "</table>\n",
       "</div>"
      ],
      "text/plain": [
       "  Reference Code     PDF FileName  Powder Pattern    Name  No.     h    k  \\\n",
       "0    00-004-0673  00-004-0673.pdf  00-004-0673.RD     Tin   1.0  2.0  0.0   \n",
       "1    00-004-0674  00-004-0673.pdf  00-004-0673.RD     Tin   2.0  1.0  0.0   \n",
       "2    00-004-0675  00-004-0673.pdf  00-004-0673.RD     Tin   3.0  2.0  2.0   \n",
       "3                                                           NaN  NaN  NaN   \n",
       "4    00-004-0783  00-004-0783.pdf  00-004-0783.RD  Silver   1.0  1.0  1.0   \n",
       "\n",
       "     l      d  2Theta[deg]   I [%]  \n",
       "0  0.0  2.915       30.645   100.0  \n",
       "1  1.0  2.793       32.019    90.0  \n",
       "2  0.0  2.062       43.872    34.0  \n",
       "3  NaN    NaN          NaN     NaN  \n",
       "4  1.0  2.359       38.117   100.0  "
      ]
     },
     "execution_count": 16,
     "metadata": {},
     "output_type": "execute_result"
    }
   ],
   "source": [
    "database.head()"
   ]
  },
  {
   "cell_type": "markdown",
   "metadata": {},
   "source": [
    "# Part 3 Identifying unknown weight fractions of a known mixture of two unknown phases\n",
    "\n",
    "The product of the diffraction pattern is a function of the material, crystalline and amorphous, being measured. Once the phases, and therefore peaks, of a pattern have been determined (qualitative analysis) it is possible to identify the quantity of the phases within the sample (quantitative analysis). This is due to the diffracted peak area and to a first approximation the intensity of the recorded peak being a function of the x-ray source and sample.\n",
    "\n",
    "\n",
    "The area under the diffracted peak scales with the amount of the corresponding phase in the sample, allowing quantitative information to be gained by comparing peaks for different phases. It is more difficult to calculate the area under a peak and to a first approximation the intensity of the recorded peak serves as an accurate alternative where relative peak heights of different phases can be compared.\n",
    "\n",
    "There are several methods which can be utilised in order to undertake quantitative analysis. They all rely on correlating some parameter with a recorded parameter from the diffraction pattern itself. Such as lattice parameter vs concentration, intensity vs concentration, etc.\n",
    "\n",
    "1. External Standard Method\n",
    "2. Direct Comparison Method\n",
    "3. Internal Standard Method\n",
    "\n",
    "For the purpose of this course we are utilising a version of method 3 where we mix one crystalline material with a second and plot the intensity vs the calculated weight percent for known components.\n",
    "\n",
    "## Overview\n",
    "\n",
    "Each student is given a mix of CaF2 and an unknown phase A/B/C/D/E at random. As such, do not blindly copy your coursemate's answers. \n",
    "\n",
    "For illustration purposes, we will use CaF2-A for the following discussion.\n",
    "\n",
    "3 known weight fractions are given - Pure CaF2, Pure A, and a 50-50 mixture of CaF2:A. There is one unknown weight fraction 'A Mystery%.csv', and your task is to identify the weight percentage of CaF2/A present in this file. \n",
    "\n",
    "To accomplish this, the task has to be broken down further:\n",
    "\n",
    "Perform background subtraction as necessary.\n",
    "\n",
    "Identify the 2-theta peak positions of the three strongest peaks for unknown material A and CaF2. \n",
    "\n",
    "Identify material A from 'PDF Database Index.csv'. \n",
    "(Refer to Part 2)\n",
    "\n",
    "Construct a calibration chart using the known weight fractions (Pure CaF2/Pure A/50-50 CaF2-A) and peak intensities corresponding to the strongest 3 peaks from CaF2 and A.\n",
    "\n",
    "Identify the background-subtracted peak intensities of the three strongest peaks for unknown material A\n",
    "\n",
    "Use the calibration chart and the peak intensities to identify the unknown weight fraction of CaF2/A for 'A Mystery%.csv'. "
   ]
  },
  {
   "cell_type": "markdown",
   "metadata": {},
   "source": [
    "## Load XRD spectra for pure unknown phase\n",
    "\n",
    "Hint:\n",
    "\n",
    "Load the appropriate data according to the unknown phase you are given on the quiz"
   ]
  },
  {
   "cell_type": "code",
   "execution_count": null,
   "metadata": {},
   "outputs": [
    {
     "data": {
      "text/plain": [
       "<Axes: xlabel='2 theta'>"
      ]
     },
     "execution_count": 247,
     "metadata": {},
     "output_type": "execute_result"
    }
   ],
   "source": [
    "file_path = r'.\\\\data\\\\part_3_data\\\\CaF2 - Z\\\\Z 100%.csv' # Edit this to match the unknown phase you are given on the quiz\n",
    "\n",
    "data = pd.read_csv(file_path, usecols=[1,2])\n",
    "data.plot(x='2 theta', y='Intensity')"
   ]
  },
  {
   "cell_type": "code",
   "execution_count": 248,
   "metadata": {},
   "outputs": [
    {
     "data": {
      "text/html": [
       "<div>\n",
       "<style scoped>\n",
       "    .dataframe tbody tr th:only-of-type {\n",
       "        vertical-align: middle;\n",
       "    }\n",
       "\n",
       "    .dataframe tbody tr th {\n",
       "        vertical-align: top;\n",
       "    }\n",
       "\n",
       "    .dataframe thead th {\n",
       "        text-align: right;\n",
       "    }\n",
       "</style>\n",
       "<table border=\"1\" class=\"dataframe\">\n",
       "  <thead>\n",
       "    <tr style=\"text-align: right;\">\n",
       "      <th></th>\n",
       "      <th>2 theta</th>\n",
       "      <th>Intensity</th>\n",
       "    </tr>\n",
       "  </thead>\n",
       "  <tbody>\n",
       "    <tr>\n",
       "      <th>0</th>\n",
       "      <td>10.000100</td>\n",
       "      <td>1105.908119</td>\n",
       "    </tr>\n",
       "    <tr>\n",
       "      <th>1</th>\n",
       "      <td>10.020451</td>\n",
       "      <td>1079.959928</td>\n",
       "    </tr>\n",
       "    <tr>\n",
       "      <th>2</th>\n",
       "      <td>10.040802</td>\n",
       "      <td>1092.980528</td>\n",
       "    </tr>\n",
       "    <tr>\n",
       "      <th>3</th>\n",
       "      <td>10.061153</td>\n",
       "      <td>1098.039187</td>\n",
       "    </tr>\n",
       "    <tr>\n",
       "      <th>4</th>\n",
       "      <td>10.081504</td>\n",
       "      <td>1105.047293</td>\n",
       "    </tr>\n",
       "  </tbody>\n",
       "</table>\n",
       "</div>"
      ],
      "text/plain": [
       "     2 theta    Intensity\n",
       "0  10.000100  1105.908119\n",
       "1  10.020451  1079.959928\n",
       "2  10.040802  1092.980528\n",
       "3  10.061153  1098.039187\n",
       "4  10.081504  1105.047293"
      ]
     },
     "execution_count": 248,
     "metadata": {},
     "output_type": "execute_result"
    }
   ],
   "source": [
    "data.head()"
   ]
  },
  {
   "cell_type": "markdown",
   "metadata": {},
   "source": [
    "## Perform background subtraction\n"
   ]
  },
  {
   "cell_type": "code",
   "execution_count": 249,
   "metadata": {},
   "outputs": [],
   "source": [
    "baseline_fitter = Baseline(x_data=data['2 theta'])\n",
    "half_window = 20\n",
    "baseline = baseline_fitter.mor(data['Intensity'], half_window=half_window)[0]\n",
    "y_subtracted = data['Intensity'] - baseline\n",
    "y_subtracted[y_subtracted<0]=0\n",
    "peaks, _ = find_peaks(y_subtracted, distance=30, height=350, prominence=100)  "
   ]
  },
  {
   "cell_type": "code",
   "execution_count": 251,
   "metadata": {},
   "outputs": [],
   "source": [
    "# Plot original data and highlight peaks\n",
    "plt.figure()\n",
    "plt.plot(data['2 theta'], y_subtracted, label='XRD Data')\n",
    "plt.plot(data['2 theta'][peaks], y_subtracted[peaks], 'x', label='Peaks', color='red')\n",
    "plt.legend()\n",
    "plt.xlabel('2-theta')\n",
    "plt.ylabel('Intensity')\n",
    "plt.show()\n"
   ]
  },
  {
   "cell_type": "markdown",
   "metadata": {},
   "source": [
    "## Identify 2-theta peak positions for pure unknown phase A\n",
    "\n",
    "Fill in the 2-theta peak positions to the nearest 0.1 degree precision in `unknown_first_peak_loc`, `unknown_sec_peak_loc`, `unknown_third_peak_loc`"
   ]
  },
  {
   "cell_type": "code",
   "execution_count": 252,
   "metadata": {},
   "outputs": [
    {
     "name": "stdout",
     "output_type": "stream",
     "text": [
      "peak 0 :44.94\n",
      "peak 1 :65.42\n",
      "peak 2 :82.88\n"
     ]
    }
   ],
   "source": [
    "for i in range(3):\n",
    "    x = data['2 theta'].to_numpy()\n",
    "    print(f'peak {i} :' + f'{round(x[peaks][i],2)}')"
   ]
  },
  {
   "cell_type": "code",
   "execution_count": null,
   "metadata": {},
   "outputs": [],
   "source": [
    "# Fill in the 2-theta peak positions to the nearest 0.1 degree precision for the unknown pure A phase.\n",
    "unknown_first_peak_loc = \n",
    "\n",
    "unknown_sec_peak_loc =\n",
    "\n",
    "unknown_third_peak_loc ="
   ]
  },
  {
   "cell_type": "markdown",
   "metadata": {},
   "source": [
    "## Identify pure unknown phase using the database\n",
    "\n",
    "#### Hint\n",
    "\n",
    "You may adapt the code from Part 2 to do an intersecting match. When doing so, make sure that the variables being used are holding the right values\n",
    "\n",
    "Again, the match_tolerance parameter will affect the confidence of your matches.\n",
    "\n",
    "A match between two out of the three peaks identified is sufficient to proceed.\n"
   ]
  },
  {
   "cell_type": "code",
   "execution_count": null,
   "metadata": {},
   "outputs": [],
   "source": []
  },
  {
   "cell_type": "markdown",
   "metadata": {},
   "source": [
    "## Form the calibration curves using the known weight fractions"
   ]
  },
  {
   "cell_type": "markdown",
   "metadata": {},
   "source": [
    "### Grab all known weight fraction xrd pattern csv file locations for loading\n",
    "\n",
    "\n",
    "$\\color{red}{\\text{IMPORTANT}}$\n",
    "\n",
    "Load the appropriate data according to the unknown phase you are given on the quiz by editing `relative_dir`\n",
    "\n",
    "Ensure that the variable `part_3_data_sorted` holds appropriately sorted files - ['C 100%', 'C 50%',  'CaF2 100%', 'C Mystery%']\n",
    "\n",
    "For example:\n",
    "\n",
    "`part_3_data = ['C 100%', 'C 50%', 'C Mystery%', 'CaF2 100%']`\n",
    "\n",
    "has to be re-arranged to\n",
    "\n",
    "`part_3_data_sorted  = ['C 100%', 'C 50%',  'CaF2 100%', 'C Mystery%']`\n",
    "\n",
    "You might have to manually sort them using indexing:\n",
    "\n",
    "`part_3_data_sorted = [part_3_data[1],part_3_data[0],part_3_data[3], part_3_data[2]]`\n",
    "\n",
    "Even if the data is sorted when loaded, you still have to update the variable `part_3_data_sorted`"
   ]
  },
  {
   "cell_type": "code",
   "execution_count": 257,
   "metadata": {},
   "outputs": [],
   "source": [
    "def find_files(directory):\n",
    "    \"\"\"\n",
    "    Find all text files within the specified directory and its subdirectories.\n",
    "\n",
    "    Parameters:\n",
    "        directory (str): The directory path to search for text files.\n",
    "\n",
    "    Returns:\n",
    "        list: A list of paths to text files.\n",
    "    \"\"\"\n",
    "    text_files = []\n",
    "    for root, dirs, files in os.walk(directory):\n",
    "        for file in files:\n",
    "            if file.endswith(\".csv\"):\n",
    "                text_files.append(os.path.join(root, file))\n",
    "    return text_files\n",
    "\n",
    "def get_filename_without_extension(file_path):\n",
    "    # Split the path into root and extension\n",
    "    root, ext = os.path.splitext(file_path)\n",
    "    # Split the root into directory and filename\n",
    "    directory, filename = os.path.split(root)\n",
    "    return filename"
   ]
  },
  {
   "cell_type": "code",
   "execution_count": null,
   "metadata": {},
   "outputs": [
    {
     "data": {
      "text/plain": [
       "['A 100%', 'A 50%', 'A Mystery%', 'CaF2 100%']"
      ]
     },
     "execution_count": 258,
     "metadata": {},
     "output_type": "execute_result"
    }
   ],
   "source": [
    "relative_dir = r'.\\\\data\\\\part_3_data\\\\CaF2 - Z\\\\' # Edit this to match the unknown phase you are given on the quiz\n",
    "\n",
    "part_3_data = sorted(find_files(os.path.join(os.getcwd() + relative_dir)))\n",
    "\n",
    "[get_filename_without_extension(file) for file in part_3_data]"
   ]
  },
  {
   "cell_type": "code",
   "execution_count": null,
   "metadata": {},
   "outputs": [
    {
     "data": {
      "text/plain": [
       "['A 100%', 'A 50%', 'CaF2 100%', 'A Mystery%']"
      ]
     },
     "execution_count": 259,
     "metadata": {},
     "output_type": "execute_result"
    }
   ],
   "source": [
    "part_3_data_sorted = [part_3_data[0],part_3_data[2],part_3_data[3],part_3_data[1]] # Example of an index re-ordering. You have to edit the numbers\n",
    "[get_filename_without_extension(file) for file in part_3_data_sorted]"
   ]
  },
  {
   "cell_type": "markdown",
   "metadata": {},
   "source": [
    "### Create empty data structure first holding the known weight fraction peak intensities\n",
    "\n",
    "\n",
    "$\\color{red}{\\text{IMPORTANT}}$\n",
    "\n",
    "Fill in the variables `CaF2_sec_peak_loc` and `CaF2_third_peak_loc` corresponding to the 2nd and 3rd smallest 2-theta peak positions for pure CaF2 XRD spectra. You should have them from answering Part 2. The smallest 2-theta peak position has been filled in for you. Use this to do a sanity check.\n",
    "\n",
    "Do a sanity check that the `weight_frac_CaF2` and `weight_frac_unknown` columns matches the file names in the `intensity_data` dataframe created."
   ]
  },
  {
   "cell_type": "code",
   "execution_count": null,
   "metadata": {},
   "outputs": [],
   "source": [
    "\n",
    "CaF2_first_peak_loc = 28.3\n",
    "CaF2_sec_peak_loc = \n",
    "CaF2_third_peak_loc = "
   ]
  },
  {
   "cell_type": "code",
   "execution_count": null,
   "metadata": {},
   "outputs": [
    {
     "data": {
      "text/html": [
       "<div>\n",
       "<style scoped>\n",
       "    .dataframe tbody tr th:only-of-type {\n",
       "        vertical-align: middle;\n",
       "    }\n",
       "\n",
       "    .dataframe tbody tr th {\n",
       "        vertical-align: top;\n",
       "    }\n",
       "\n",
       "    .dataframe thead th {\n",
       "        text-align: right;\n",
       "    }\n",
       "</style>\n",
       "<table border=\"1\" class=\"dataframe\">\n",
       "  <thead>\n",
       "    <tr style=\"text-align: right;\">\n",
       "      <th></th>\n",
       "      <th>28.3</th>\n",
       "      <th>47.0</th>\n",
       "      <th>55.75</th>\n",
       "      <th>44.94</th>\n",
       "      <th>65.42</th>\n",
       "      <th>82.88</th>\n",
       "      <th>weight_frac_unknown</th>\n",
       "      <th>weight_frac_CaF2</th>\n",
       "    </tr>\n",
       "  </thead>\n",
       "  <tbody>\n",
       "    <tr>\n",
       "      <th>A 100%</th>\n",
       "      <td>NaN</td>\n",
       "      <td>NaN</td>\n",
       "      <td>NaN</td>\n",
       "      <td>NaN</td>\n",
       "      <td>NaN</td>\n",
       "      <td>NaN</td>\n",
       "      <td>100</td>\n",
       "      <td>0</td>\n",
       "    </tr>\n",
       "    <tr>\n",
       "      <th>A 50%</th>\n",
       "      <td>NaN</td>\n",
       "      <td>NaN</td>\n",
       "      <td>NaN</td>\n",
       "      <td>NaN</td>\n",
       "      <td>NaN</td>\n",
       "      <td>NaN</td>\n",
       "      <td>50</td>\n",
       "      <td>50</td>\n",
       "    </tr>\n",
       "    <tr>\n",
       "      <th>CaF2 100%</th>\n",
       "      <td>NaN</td>\n",
       "      <td>NaN</td>\n",
       "      <td>NaN</td>\n",
       "      <td>NaN</td>\n",
       "      <td>NaN</td>\n",
       "      <td>NaN</td>\n",
       "      <td>0</td>\n",
       "      <td>100</td>\n",
       "    </tr>\n",
       "  </tbody>\n",
       "</table>\n",
       "</div>"
      ],
      "text/plain": [
       "          28.3 47.0 55.75 44.94 65.42 82.88  weight_frac_unknown  \\\n",
       "A 100%     NaN  NaN   NaN   NaN   NaN   NaN                  100   \n",
       "A 50%      NaN  NaN   NaN   NaN   NaN   NaN                   50   \n",
       "CaF2 100%  NaN  NaN   NaN   NaN   NaN   NaN                    0   \n",
       "\n",
       "           weight_frac_CaF2  \n",
       "A 100%                    0  \n",
       "A 50%                    50  \n",
       "CaF2 100%               100  "
      ]
     },
     "execution_count": 261,
     "metadata": {},
     "output_type": "execute_result"
    }
   ],
   "source": [
    "default_peaks_list = [CaF2_first_peak_loc, CaF2_sec_peak_loc, CaF2_third_peak_loc, unknown_first_peak_loc, unknown_sec_peak_loc, unknown_third_peak_loc]\n",
    "\n",
    "intensity_data = pd.DataFrame(index=[os.path.splitext(os.path.basename(text))[0] for text in part_3_data_sorted[:-1]], columns=default_peaks_list)\n",
    "intensity_data['weight_frac_unknown'] = [100, 50, 0]\n",
    "\n",
    "intensity_data['weight_frac_CaF2'] = 100 - intensity_data['weight_frac_unknown']\n",
    "intensity_data"
   ]
  },
  {
   "cell_type": "markdown",
   "metadata": {},
   "source": [
    "### Populate data structure with values from each XRD pattern\n",
    "\n",
    "The following code block populates the empty dataframe above with the corresponding peak intesities at the six 2-theta positions specified (corresponding to CaF2 and the unknown phase)\n",
    "\n",
    "For each csv file:\n",
    "\n",
    "The XRD spectra is plotted\n",
    "\n",
    "Peak fitting is conducted\n",
    "\n",
    "If a peak is found close to the default 2-theta positions defined in the dataframe above, the corresponding intensity is keyed into the dataframe.\n",
    "\n",
    "If no peak is found, the intensity of the 2-theta position that is closest to the default 2-theta positions is keyed into the dataframe instead.\n",
    "\n",
    "Contrast this to how you would have to do this manually by opening each file yourself. "
   ]
  },
  {
   "cell_type": "code",
   "execution_count": 274,
   "metadata": {},
   "outputs": [
    {
     "name": "stdout",
     "output_type": "stream",
     "text": [
      "Currently on A 100%\n",
      "Currently on A 50%\n",
      "Currently on CaF2 100%\n"
     ]
    }
   ],
   "source": [
    "for ind,file in enumerate(part_3_data_sorted[:-1]):\n",
    "\n",
    "    current_index = str(get_filename_without_extension(file))\n",
    "\n",
    "    print((f'Currently on {current_index}'))\n",
    "\n",
    "    data = pd.read_csv(file, usecols=[1,2])\n",
    "\n",
    "    x = data['2 theta'].to_numpy()\n",
    "    y = data['Intensity'].to_numpy()\n",
    "\n",
    "    half_window = 20\n",
    "    baseline_fitter = Baseline(x_data = x)\n",
    "    baseline = baseline_fitter.mor(y, half_window=half_window)[0]\n",
    "    y_subtracted = y - baseline\n",
    "    y_subtracted[y_subtracted<0]=0\n",
    "\n",
    "    data['Intensity'] = y_subtracted\n",
    "    y = y_subtracted\n",
    "\n",
    "    plt.figure()\n",
    "    plt.title(f'{current_index}')\n",
    "    plt.plot(x, y_subtracted)\n",
    "    plt.plot(x[peaks], y_subtracted[peaks], 'x', label='Peaks', color='red')\n",
    "\n",
    "    peaks_ind, _ = find_peaks(y, distance=30, height=350, prominence=10)\n",
    "\n",
    "    plt.plot(x[peaks_ind], y_subtracted[peaks_ind], 'x', label='Peaks', color='red')\n",
    "\n",
    "    for default_peak in default_peaks_list:\n",
    "        # Find the intensity at the target 2-theta value within the tolerance\n",
    "        mask = np.isclose(data['2 theta'], default_peak, atol=0.01)\n",
    "\n",
    "        if mask.any():\n",
    "            intensity_at_target = data.loc[np.where(mask==True), 'Intensity'].values[0]\n",
    "            intensity_data.loc[current_index, default_peak] = intensity_at_target\n",
    "\n",
    "        # if a peak is found close to the default peak, use the more precise indice\n",
    "        if np.isclose(default_peak, x[peaks_ind], atol=0.1).any():\n",
    "            intensity_data.loc[current_index, default_peak] = y[peaks_ind[np.where(np.isclose(default_peak, x[peaks_ind], atol=0.1))[0][0]]]"
   ]
  },
  {
   "cell_type": "markdown",
   "metadata": {},
   "source": [
    "## Check that the table is completely filled\n",
    "\n",
    "The data structure is now complete, although make sure to check that the values are sensible - peak heights corresponding to A's smallest 2-theta positions should have decreasing values as less of A is present, and vice versa for CaF2. \n",
    "\n",
    "If they are not, now is a good time to check if you have correctly edited `part_3_data_sorted` above."
   ]
  },
  {
   "cell_type": "code",
   "execution_count": 275,
   "metadata": {},
   "outputs": [
    {
     "data": {
      "text/html": [
       "<div>\n",
       "<style scoped>\n",
       "    .dataframe tbody tr th:only-of-type {\n",
       "        vertical-align: middle;\n",
       "    }\n",
       "\n",
       "    .dataframe tbody tr th {\n",
       "        vertical-align: top;\n",
       "    }\n",
       "\n",
       "    .dataframe thead th {\n",
       "        text-align: right;\n",
       "    }\n",
       "</style>\n",
       "<table border=\"1\" class=\"dataframe\">\n",
       "  <thead>\n",
       "    <tr style=\"text-align: right;\">\n",
       "      <th></th>\n",
       "      <th>28.3</th>\n",
       "      <th>47.0</th>\n",
       "      <th>55.75</th>\n",
       "      <th>44.94</th>\n",
       "      <th>65.42</th>\n",
       "      <th>82.88</th>\n",
       "      <th>weight_frac_unknown</th>\n",
       "      <th>weight_frac_CaF2</th>\n",
       "    </tr>\n",
       "  </thead>\n",
       "  <tbody>\n",
       "    <tr>\n",
       "      <th>A 100%</th>\n",
       "      <td>64.993524</td>\n",
       "      <td>123.712748</td>\n",
       "      <td>84.641444</td>\n",
       "      <td>15975.054772</td>\n",
       "      <td>2061.785257</td>\n",
       "      <td>3997.632071</td>\n",
       "      <td>100</td>\n",
       "      <td>0</td>\n",
       "    </tr>\n",
       "    <tr>\n",
       "      <th>A 50%</th>\n",
       "      <td>1215.282191</td>\n",
       "      <td>1224.173727</td>\n",
       "      <td>422.529564</td>\n",
       "      <td>8032.444201</td>\n",
       "      <td>1035.017387</td>\n",
       "      <td>2030.493163</td>\n",
       "      <td>50</td>\n",
       "      <td>50</td>\n",
       "    </tr>\n",
       "    <tr>\n",
       "      <th>CaF2 100%</th>\n",
       "      <td>2276.661</td>\n",
       "      <td>2344.43256</td>\n",
       "      <td>737.904756</td>\n",
       "      <td>101.467615</td>\n",
       "      <td>56.380877</td>\n",
       "      <td>63.364535</td>\n",
       "      <td>0</td>\n",
       "      <td>100</td>\n",
       "    </tr>\n",
       "  </tbody>\n",
       "</table>\n",
       "</div>"
      ],
      "text/plain": [
       "                  28.3         47.0       55.75         44.94        65.42  \\\n",
       "A 100%       64.993524   123.712748   84.641444  15975.054772  2061.785257   \n",
       "A 50%      1215.282191  1224.173727  422.529564   8032.444201  1035.017387   \n",
       "CaF2 100%     2276.661   2344.43256  737.904756    101.467615    56.380877   \n",
       "\n",
       "                 82.88  weight_frac_unknown  weight_frac_CaF2  \n",
       "A 100%     3997.632071                  100                 0  \n",
       "A 50%      2030.493163                   50                50  \n",
       "CaF2 100%    63.364535                    0               100  "
      ]
     },
     "execution_count": 275,
     "metadata": {},
     "output_type": "execute_result"
    }
   ],
   "source": [
    "intensity_data"
   ]
  },
  {
   "cell_type": "markdown",
   "metadata": {},
   "source": [
    "## Identify the equation of the line for each of the three peaks identified for the unknown phase\n",
    "\n",
    "With the populated dataframe, we can now plot the calibration curves using the known weight fractions of CaF2 and the unknown phase.\n",
    "\n",
    "$\\color{red}{\\text{IMPORTANT}}$\n",
    "\n",
    "If you do not obtain a straight line, check the following\n",
    "- `part_3_data_sorted` contains the files in the correct order specified\n",
    "- background subtraction is performed consistently using the same method across all the given files"
   ]
  },
  {
   "cell_type": "code",
   "execution_count": 277,
   "metadata": {},
   "outputs": [
    {
     "data": {
      "text/plain": [
       "Text(0.5, 1.0, 'A intensities')"
      ]
     },
     "execution_count": 277,
     "metadata": {},
     "output_type": "execute_result"
    }
   ],
   "source": [
    "intensity_data.plot(x='weight_frac_CaF2', y=intensity, kind='scatter')\n",
    "plt.title('A intensities')"
   ]
  },
  {
   "cell_type": "code",
   "execution_count": 278,
   "metadata": {},
   "outputs": [
    {
     "name": "stdout",
     "output_type": "stream",
     "text": [
      "44.94 equation of line:  \n",
      "-158.7 x + 1.597e+04\n",
      "65.42 equation of line:  \n",
      "-20.05 x + 2054\n",
      "82.88 equation of line:  \n",
      "-39.34 x + 3998\n"
     ]
    }
   ],
   "source": [
    "# Peaks to process\n",
    "unknown_peaks = [unknown_first_peak_loc, unknown_sec_peak_loc, unknown_third_peak_loc]\n",
    "\n",
    "for intensity in unknown_peaks:\n",
    "\n",
    "    intensity_data.plot(x='weight_frac_CaF2', y=intensity, kind='scatter')\n",
    "    plt.title('A intensities')\n",
    "\n",
    "    # Fit a linear regression line\n",
    "    coefficients = np.polyfit(x=intensity_data['weight_frac_CaF2'], y=pd.to_numeric(intensity_data[intensity]), deg=1)\n",
    "\n",
    "    line = np.poly1d(coefficients)\n",
    "    print(f'{intensity} equation of line: {line}')\n",
    "\n",
    "    # Plot the linear regression line\n",
    "    plt.plot(intensity_data['weight_frac_CaF2'], line(intensity_data['weight_frac_CaF2']), color='red')\n",
    "    plt.title(f'{intensity}')\n",
    "    # # Plot the equation of the line\n",
    "    plt.text(0.95, 0.05, f'{line}', color='red',\n",
    "             ha='right', va='bottom', transform=plt.gca().transAxes)\n",
    "\n",
    "    plt.show()\n"
   ]
  },
  {
   "cell_type": "markdown",
   "metadata": {},
   "source": [
    "## Identify background-subtracted peak intensities corresponding to the smallest 2-theta peak positions of unknown phase A in the unknown mixture"
   ]
  },
  {
   "cell_type": "markdown",
   "metadata": {},
   "source": [
    "$\\color{red}{\\text{IMPORTANT}}$\n",
    "\n",
    "Perform background subtraction using the same method that has been used for populating the values in the `intensity_data` dataframe.\n",
    "\n",
    "Refer to section 'Populate data structure with values from each XRD pattern' and copy the necessary code\n",
    "\n",
    "You may wish to plot to check that the background subtraction is working as intended."
   ]
  },
  {
   "cell_type": "markdown",
   "metadata": {},
   "source": [
    "### Load data"
   ]
  },
  {
   "cell_type": "code",
   "execution_count": null,
   "metadata": {},
   "outputs": [
    {
     "data": {
      "text/plain": [
       "[<matplotlib.lines.Line2D at 0x2644e277580>]"
      ]
     },
     "execution_count": 279,
     "metadata": {},
     "output_type": "execute_result"
    }
   ],
   "source": [
    "unknown_mixture =  pd.read_csv(part_3_data_sorted[-1], usecols=[1,2])\n",
    "\n",
    "x = unknown_mixture['2 theta'].to_numpy()\n",
    "y = unknown_mixture['Intensity'].to_numpy()\n",
    "\n",
    "plt.close()\n",
    "plt.figure()\n",
    "plt.plot(unknown_mixture['2 theta'], unknown_mixture['Intensity'])"
   ]
  },
  {
   "cell_type": "markdown",
   "metadata": {},
   "source": [
    "### Perform background subtraction"
   ]
  },
  {
   "cell_type": "code",
   "execution_count": null,
   "metadata": {},
   "outputs": [
    {
     "data": {
      "text/plain": [
       "[<matplotlib.lines.Line2D at 0x26452866820>]"
      ]
     },
     "execution_count": 280,
     "metadata": {},
     "output_type": "execute_result"
    }
   ],
   "source": [
    "# insert background subtraction code here.\n",
    "\n",
    "plt.figure()\n",
    "plt.plot(x,y_subtracted) \n",
    "# Note that even without inserting the background subtraction, this code cell would still run perfectly \n",
    "# as you are supposed to over-ride the `y_subtracted` variable from previous runs"
   ]
  },
  {
   "cell_type": "markdown",
   "metadata": {},
   "source": [
    "### Identify the peak heights corresponding to the smallest 3 2-theta positions for the unknown phase in the unknown mixture\n",
    "\n",
    "A vertical line marker is provided in the figure plotted below, but it isn't always accurate. Please zoom in using the interactive plot and read as accurately as possible the corresponding peak heights."
   ]
  },
  {
   "cell_type": "code",
   "execution_count": null,
   "metadata": {},
   "outputs": [],
   "source": [
    "unknown_peaks = [unknown_first_peak_loc, unknown_sec_peak_loc, unknown_third_peak_loc]\n",
    "\n",
    "# Plot the data\n",
    "plt.close()\n",
    "plt.figure()\n",
    "plt.plot(x, y_subtracted, label='y_subtracted')\n",
    "\n",
    "# Add visual indicators for peaks\n",
    "for peak in unknown_peaks:\n",
    "    # Find the index of the closest value to the peak in x\n",
    "    index = np.abs(x - peak).argmin()\n",
    "    # Get the corresponding x and y values\n",
    "    x_value = x[index]\n",
    "    y_value = y_subtracted[index]\n",
    "    # Add a vertical line\n",
    "    plt.axvline(x=x_value, color='red', linestyle='--', label=f'Peak near {peak}')\n",
    "\n",
    "plt.xlabel('x')\n",
    "plt.ylabel('y_subtracted')\n",
    "plt.show()"
   ]
  },
  {
   "cell_type": "markdown",
   "metadata": {},
   "source": [
    "# Identify the weight fraction of the unknown phase A in the mystery mixture\n",
    "\n",
    "$\\color{red}{\\text{IMPORTANT}}$\n",
    "\n",
    "You now have three equation of the lines corresponding to the three smallest 2-theta peak positions of unknown phase A, along with the corresponding intensities for the mystery A mixture. \n",
    "\n",
    "Use them to determine the average weight fraction of A in the mystery A mixture. \n",
    "- Hint: Use `np.mean`\n",
    "\n",
    "Make sure you use the correct specified peak and its corresponding equation of the line or you will not arrive at the correct answer.\n",
    "\n",
    "Be clear on what is the 'X' and 'Y' in the equation of the line."
   ]
  },
  {
   "cell_type": "code",
   "execution_count": null,
   "metadata": {},
   "outputs": [],
   "source": []
  }
 ],
 "metadata": {
  "kernelspec": {
   "display_name": "datascience_3.9",
   "language": "python",
   "name": "python3"
  },
  "language_info": {
   "codemirror_mode": {
    "name": "ipython",
    "version": 3
   },
   "file_extension": ".py",
   "mimetype": "text/x-python",
   "name": "python",
   "nbconvert_exporter": "python",
   "pygments_lexer": "ipython3",
   "version": "3.9.18"
  },
  "orig_nbformat": 4
 },
 "nbformat": 4,
 "nbformat_minor": 2
}
