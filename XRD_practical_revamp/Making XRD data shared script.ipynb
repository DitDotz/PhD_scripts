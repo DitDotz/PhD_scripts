{
 "cells": [
  {
   "cell_type": "code",
   "execution_count": 1,
   "id": "4f1729c9-4fd1-4617-8594-08f45c34b577",
   "metadata": {},
   "outputs": [],
   "source": [
    "%matplotlib tk\n",
    "import numpy as np\n",
    "import matplotlib.pyplot as plt\n",
    "import ase\n",
    "from ase.visualize import view\n",
    "import xrayutilities as xu\n",
    "import pandas as pd\n",
    "from scipy.ndimage import gaussian_filter1d\n",
    "from tqdm import trange"
   ]
  },
  {
   "cell_type": "code",
   "execution_count": 2,
   "id": "e1dd521a-aa0b-428c-965a-798cab515cbe",
   "metadata": {},
   "outputs": [],
   "source": [
    "#Making different background signals to be added to simualted data\n",
    "\n",
    "glass_bkg=pd.read_excel('Copy of Glass slide.xls').to_numpy()\n",
    "glass_bkg_np=[]\n",
    "for i in range(0, len(glass_bkg)):\n",
    "    glass_bkg_np.append((glass_bkg[i][0], glass_bkg[i][1]-932))\n",
    "\n",
    "glass_bkg_np=np.array(glass_bkg_np)\n",
    "\n",
    "zero_bkg=[]\n",
    "for i in range(0, 9000):\n",
    "    zero_bkg.append((np.arange(0, 90, 0.01)[i], 0))\n",
    "\n",
    "zero_bkg=np.array(zero_bkg)"
   ]
  },
  {
   "cell_type": "code",
   "execution_count": 3,
   "id": "568b38d5-a1c4-49dc-b456-eeb62dac40a1",
   "metadata": {},
   "outputs": [],
   "source": [
    "#Functions to simulate XRD patterns and save data to csvs\n",
    "\n",
    "def make_mixed_XRD_pattern(mat_1, mat_2, ratio_1, ratio_2, I0, noise, noise_floor, background, gaussian, sigma):\n",
    "    theta_start=np.min(background[:,0])\n",
    "    theta_end=np.max(background[:,0])\n",
    "    theta_step=(theta_end-theta_start)/len(background)\n",
    "    tt = np.arange(theta_start, theta_end, theta_step)\n",
    "    powder_1 = xu.simpack.Powder(mat_1, ratio_1)\n",
    "    powder_2 = xu.simpack.Powder(mat_2, ratio_2)\n",
    "    pm = xu.simpack.PowderModel(powder_1, powder_2, I0=I0)\n",
    "    if gaussian==True:\n",
    "        inte = pm.simulate(tt)\n",
    "        inte=gaussian_filter1d(inte, sigma)+background[:,1]\n",
    "        pm.close()\n",
    "    if gaussian==False:\n",
    "        inte = pm.simulate(tt)+background[:,1]\n",
    "        pm.close()\n",
    "    if noise==True:\n",
    "        noise=np.random.normal(0,noise_floor, len(tt))\n",
    "        inte=inte+noise\n",
    "        \n",
    "    return tt, inte, pm\n",
    "\n",
    "def save_to_csv(data_list, material_A, material_B, savefolder):\n",
    "    for i in range(0, len(data_list)):\n",
    "        dataframe=pd.DataFrame({'2 theta':data_list[i][2][0], 'Intensity':data_list[i][2][1]})\n",
    "        dataframe.to_csv(savefolder+'/'+f'{round(data_list[i][0]/(data_list[i][0]+data_list[i][1]), 2)}'+' '+ material_A+', '+f'{round(data_list[i][1]/(data_list[i][0]+data_list[i][1]), 2)}'+ material_A+'.csv')\n",
    "    return dataframe"
   ]
  },
  {
   "cell_type": "code",
   "execution_count": null,
   "id": "c6c39f31-90f9-42e5-bd81-ade68bc9652f",
   "metadata": {},
   "outputs": [],
   "source": [
    "#List of some materials in X-ray utlities materials library\n",
    "\n",
    "material_list=[xu.materials.Ag2Se,\n",
    "               xu.materials.Al2O3,\n",
    "               xu.materials.BaF2,\n",
    "               xu.materials.BaTiO3,\n",
    "               xu.materials.CaF2,\n",
    "               xu.materials.CaTiO3,\n",
    "               xu.materials.CdSe,\n",
    "               xu.materials.Co3O4,\n",
    "               xu.materials.Fe3O4,\n",
    "               xu.materials.FeO,\n",
    "               xu.materials.LaB6,\n",
    "               xu.materials.MgO,\n",
    "               xu.materials.MnO,\n",
    "               xu.materials.MnO2,\n",
    "               xu.materials.NaCl,\n",
    "               xu.materials.SiO2,\n",
    "               xu.materials.SrTiO3,\n",
    "               xu.materials.TiO2]"
   ]
  },
  {
   "cell_type": "code",
   "execution_count": null,
   "id": "3f550460-4ee1-4dd4-ad91-c03840af4763",
   "metadata": {},
   "outputs": [],
   "source": [
    "#Making the data\n",
    "#Change to effect ratios of different materials, only tested with integer values e.g. A=1, B=1 will create a 50:50 XRD pattern of materias A and B\n",
    "A_numbers=[]\n",
    "B_numbers=[]\n",
    "\n",
    "#Example script using CaF2 and FeO\n",
    "#Recommended I0=1e5 or higher, especially with glass background. Recommended sigma >3 to not eliminate shoulders but merge similar peaks (will depend on I0 value)\n",
    "example_set=[]\n",
    "for i in trange(0, len(A_numbers)):\n",
    "    data=make_mixed_XRD_pattern(xu.materials.CaF2, xu.materials.FeO, ratio_1=A_numbers[i], ratio_2=B_numbers[i], I0=1e5, noise=True, noise_floor=0.05, background=zero_bkg, gaussian=False, sigma=0)\n",
    "    example_set.append([A_numbers[i],B_numbers[i],data])\n",
    "\n",
    "#save data to a csv folder, need to define savefolder\n",
    "save_to_csv(example_set, 'CaF2', 'FeO', savefolder)"
   ]
  }
 ],
 "metadata": {
  "kernelspec": {
   "display_name": "Python 3 (ipykernel)",
   "language": "python",
   "name": "python3"
  },
  "language_info": {
   "codemirror_mode": {
    "name": "ipython",
    "version": 3
   },
   "file_extension": ".py",
   "mimetype": "text/x-python",
   "name": "python",
   "nbconvert_exporter": "python",
   "pygments_lexer": "ipython3",
   "version": "3.11.7"
  }
 },
 "nbformat": 4,
 "nbformat_minor": 5
}
